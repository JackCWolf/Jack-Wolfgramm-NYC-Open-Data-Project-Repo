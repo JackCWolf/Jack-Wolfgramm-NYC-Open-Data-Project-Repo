{
 "cells": [
  {
   "cell_type": "code",
   "execution_count": 2,
   "id": "d1f2a10b",
   "metadata": {},
   "outputs": [
    {
     "name": "stderr",
     "output_type": "stream",
     "text": [
      "C:\\Users\\JackW\\anaconda3\\lib\\site-packages\\IPython\\core\\interactiveshell.py:3444: DtypeWarning: Columns (19,20) have mixed types.Specify dtype option on import or set low_memory=False.\n",
      "  exec(code_obj, self.user_global_ns, self.user_ns)\n"
     ]
    },
    {
     "data": {
      "text/html": [
       "<div>\n",
       "<style scoped>\n",
       "    .dataframe tbody tr th:only-of-type {\n",
       "        vertical-align: middle;\n",
       "    }\n",
       "\n",
       "    .dataframe tbody tr th {\n",
       "        vertical-align: top;\n",
       "    }\n",
       "\n",
       "    .dataframe thead th {\n",
       "        text-align: right;\n",
       "    }\n",
       "</style>\n",
       "<table border=\"1\" class=\"dataframe\">\n",
       "  <thead>\n",
       "    <tr style=\"text-align: right;\">\n",
       "      <th></th>\n",
       "      <th>License Expiration Date</th>\n",
       "      <th>License Status</th>\n",
       "      <th>License Creation Date</th>\n",
       "      <th>Industry</th>\n",
       "      <th>Longitude</th>\n",
       "      <th>Latitude</th>\n",
       "      <th>date_diffs</th>\n",
       "      <th>Start_date</th>\n",
       "    </tr>\n",
       "  </thead>\n",
       "  <tbody>\n",
       "    <tr>\n",
       "      <th>0</th>\n",
       "      <td>2022-06-30</td>\n",
       "      <td>1</td>\n",
       "      <td>2007-01-02</td>\n",
       "      <td>Electronic &amp; Appliance Service</td>\n",
       "      <td>-73.835446</td>\n",
       "      <td>40.838469</td>\n",
       "      <td>5658.0</td>\n",
       "      <td>10935</td>\n",
       "    </tr>\n",
       "    <tr>\n",
       "      <th>1</th>\n",
       "      <td>2022-05-01</td>\n",
       "      <td>1</td>\n",
       "      <td>2018-10-31</td>\n",
       "      <td>Employment Agency</td>\n",
       "      <td>-73.795002</td>\n",
       "      <td>40.710524</td>\n",
       "      <td>1278.0</td>\n",
       "      <td>15255</td>\n",
       "    </tr>\n",
       "    <tr>\n",
       "      <th>2</th>\n",
       "      <td>2022-06-30</td>\n",
       "      <td>1</td>\n",
       "      <td>2015-10-27</td>\n",
       "      <td>Electronic &amp; Appliance Service</td>\n",
       "      <td>-74.010425</td>\n",
       "      <td>40.645018</td>\n",
       "      <td>2438.0</td>\n",
       "      <td>14155</td>\n",
       "    </tr>\n",
       "    <tr>\n",
       "      <th>3</th>\n",
       "      <td>2022-05-01</td>\n",
       "      <td>1</td>\n",
       "      <td>2012-07-13</td>\n",
       "      <td>Employment Agency</td>\n",
       "      <td>-73.969382</td>\n",
       "      <td>40.792751</td>\n",
       "      <td>3579.0</td>\n",
       "      <td>12954</td>\n",
       "    </tr>\n",
       "    <tr>\n",
       "      <th>4</th>\n",
       "      <td>2022-06-30</td>\n",
       "      <td>1</td>\n",
       "      <td>2012-01-10</td>\n",
       "      <td>Electronic &amp; Appliance Service</td>\n",
       "      <td>-73.825319</td>\n",
       "      <td>40.733833</td>\n",
       "      <td>3824.0</td>\n",
       "      <td>12769</td>\n",
       "    </tr>\n",
       "  </tbody>\n",
       "</table>\n",
       "</div>"
      ],
      "text/plain": [
       "  License Expiration Date  License Status License Creation Date  \\\n",
       "0              2022-06-30               1            2007-01-02   \n",
       "1              2022-05-01               1            2018-10-31   \n",
       "2              2022-06-30               1            2015-10-27   \n",
       "3              2022-05-01               1            2012-07-13   \n",
       "4              2022-06-30               1            2012-01-10   \n",
       "\n",
       "                         Industry  Longitude   Latitude  date_diffs  \\\n",
       "0  Electronic & Appliance Service -73.835446  40.838469      5658.0   \n",
       "1               Employment Agency -73.795002  40.710524      1278.0   \n",
       "2  Electronic & Appliance Service -74.010425  40.645018      2438.0   \n",
       "3               Employment Agency -73.969382  40.792751      3579.0   \n",
       "4  Electronic & Appliance Service -73.825319  40.733833      3824.0   \n",
       "\n",
       "   Start_date  \n",
       "0       10935  \n",
       "1       15255  \n",
       "2       14155  \n",
       "3       12954  \n",
       "4       12769  "
      ]
     },
     "execution_count": 2,
     "metadata": {},
     "output_type": "execute_result"
    }
   ],
   "source": [
    "import pandas as pd\n",
    "import numpy as np\n",
    "import datetime as dt\n",
    "import matplotlib.pyplot as plt\n",
    "import seaborn as sns\n",
    "from scipy import stats\n",
    "import optuna\n",
    "from sklearn import metrics\n",
    "import sklearn.cluster\n",
    "import xgboost as xgb\n",
    "from sklearn.model_selection import cross_val_score\n",
    "from sklearn.pipeline import Pipeline\n",
    "from sklearn.preprocessing import MinMaxScaler\n",
    "from sklearn.preprocessing import OneHotEncoder\n",
    "from sklearn.compose import ColumnTransformer\n",
    "\n",
    "file = '..\\data\\external\\Legally_Operating_Businesses.csv'\n",
    "df = pd.read_csv(file)\n",
    "df = df[df['Latitude'].isna() == False]\n",
    "df = df[df['Business Name'].isna()==False]\n",
    "df = df[df['Address State']=='NY']\n",
    "df['License Creation Date'] = pd.to_datetime(df['License Creation Date'], format = '%m/%d/%Y')\n",
    "df['License Expiration Date'] = pd.to_datetime(df['License Expiration Date'], format = '%m/%d/%Y')\n",
    "df['License Status'] = df['License Status']=='Active'\n",
    "df['License Status'] = df['License Status'].astype('int')\n",
    "drop_cols = ['DCA License Number', 'License Type', 'Business Name', 'Business Name 2', 'Address Building', 'Address Street Name', 'Secondary Address Street Name', 'Address City', 'Address State', 'Address ZIP', 'Contact Phone Number', 'Address Borough','Borough Code','Community Board','Council District','BIN','BBL','NTA','Census Tract','Detail','Location']\n",
    "df.drop(labels = drop_cols, axis=1, inplace = True)\n",
    "df = df[df['Longitude'] > -76]\n",
    "df.reset_index(drop = True, inplace = True)\n",
    "df['date_diffs']=(df['License Expiration Date']-df['License Creation Date']).dt.days\n",
    "df=df[df['date_diffs']>0]\n",
    "df['Start_date']=(df['License Creation Date']-np.min(df['License Creation Date'])).dt.days\n",
    "df_small = df.sample(frac=0.10)\n",
    "df.head()"
   ]
  },
  {
   "cell_type": "code",
   "execution_count": 494,
   "id": "819b0dd0",
   "metadata": {},
   "outputs": [],
   "source": [
    "class Cluster_Adder():\n",
    "    def __init__(self, K):\n",
    "        self.K = K\n",
    "    \n",
    "    def fit(self, X , y):\n",
    "        \n",
    "        kmeans = sklearn.cluster.KMeans(n_clusters=self.K)\n",
    "        self.assigned_cluster=kmeans.fit_predict(X[:,0:3])\n",
    "        means=np.zeros(self.K)\n",
    "        for i in range(self.K):\n",
    "            means[i]=y[self.assigned_cluster==i].mean()\n",
    "        self.means=means\n",
    "        self.kmeans=kmeans\n",
    "        return self\n",
    "    \n",
    "    def transform(self, X):\n",
    "        \n",
    "        # Use the already predicted clusters to save time if this is what we trained our clusters on\n",
    "        if (X.shape[0]==len(self.assigned_cluster)):\n",
    "            cluster_col=np.zeros(X.shape[0])\n",
    "            for i in range(self.K):\n",
    "                cluster_col[self.assigned_cluster==i]=self.means[i]\n",
    "            return np.column_stack((X,cluster_col))\n",
    "    \n",
    "        # Otherwise we predict the clusters of the test points\n",
    "        assigned_cluster=self.kmeans.predict(X[:,0:3])\n",
    "\n",
    "        cluster_col=np.zeros(X.shape[0])\n",
    "        \n",
    "        for i in range(self.K):\n",
    "            cluster_col[assigned_cluster==i]=self.means[i]\n",
    "        return np.column_stack((X,cluster_col))"
   ]
  },
  {
   "cell_type": "code",
   "execution_count": 5,
   "id": "1217bcc9",
   "metadata": {},
   "outputs": [],
   "source": [
    "# This also adds a column with the mean for the cluster, but deletes the location and time data\n",
    "class Cluster_Adder_With_Deletion():\n",
    "    def __init__(self, K):\n",
    "        self.K = K\n",
    "    \n",
    "    def fit(self, X , y):\n",
    "        \n",
    "        kmeans = sklearn.cluster.KMeans(n_clusters=self.K)\n",
    "        self.assigned_cluster=kmeans.fit_predict(X[:,0:3])\n",
    "        means=np.zeros(self.K)\n",
    "        for i in range(self.K):\n",
    "            means[i]=y[self.assigned_cluster==i].mean()\n",
    "        self.means=means\n",
    "        self.kmeans=kmeans\n",
    "        return self\n",
    "    \n",
    "    def transform(self, X):\n",
    "        \n",
    "        # Use the already predicted clusters to save time if this is what we trained our clusters on\n",
    "        if (X.shape[0]==len(self.assigned_cluster)):\n",
    "            cluster_col=np.zeros(X.shape[0])\n",
    "            for i in range(self.K):\n",
    "                cluster_col[self.assigned_cluster==i]=self.means[i]\n",
    "            # The subset here deletes the time and location data\n",
    "            return np.column_stack((X[:,3:],cluster_col))\n",
    "    \n",
    "        # Otherwise we predict the clusters of the test points\n",
    "        assigned_cluster=self.kmeans.predict(X[:,0:3])\n",
    "\n",
    "        cluster_col=np.zeros(X.shape[0])\n",
    "        \n",
    "        for i in range(self.K):\n",
    "            cluster_col[assigned_cluster==i]=self.means[i]\n",
    "        # The subset here deletes the time and location data\n",
    "        return np.column_stack((X[:,3:],cluster_col))"
   ]
  },
  {
   "cell_type": "code",
   "execution_count": 27,
   "id": "4df7a702",
   "metadata": {},
   "outputs": [],
   "source": [
    "def objective_clusters(trial):\n",
    "    \n",
    "    data = df_small[['Start_date','Longitude','Latitude','License Status','Industry']]\n",
    "    target = df_small[['date_diffs']]\n",
    "    \n",
    "    K = trial.suggest_int(\"K\", 2, 200)\n",
    "    \n",
    "    alpha=trial.suggest_uniform('alpha',0.1,1)\n",
    "    \n",
    "    beta=trial.suggest_uniform('beta',0.1,1)\n",
    "    \n",
    "    parameter = {\n",
    "      'max_depth':trial.suggest_int('depth', 3, 5), # show integer parameters between 3 and 5 for depth\n",
    "      'min_child_weight':trial.suggest_int('childweight',0,5), # show integer parameters between 0 and 5 for childweight\n",
    "      'learning_rate':trial.suggest_loguniform('ourlearning_rate',0.05,0.6), # set a log distribution between 0.05 and 0.5 for learning rate\n",
    "      'colsample_bytree':trial.suggest_uniform('colsample_bytree',0.4,0.9), # set a uniformly distributed numbers between 0.4 and 0.9 for colsample_bytree\n",
    "      'subsample':trial.suggest_uniform('sample',0.4,0.9)\n",
    "    }\n",
    "    \n",
    "    # preprocessor to avoid data leakage\n",
    "    preprocessor = ColumnTransformer(transformers = [('scaler1', MinMaxScaler((0,alpha)),['Longitude', 'Latitude']),('scaler2', MinMaxScaler((0,beta)),['Start_date']), ('onehot', OneHotEncoder(sparse=False,handle_unknown = 'ignore'), ['Industry'])])\n",
    "    \n",
    "    # Add a callback for pruning.\n",
    "    pruning_callback = optuna.integration.XGBoostPruningCallback(trial, \"validation-erorr\")\n",
    "    \n",
    "    pipeline = Pipeline(steps=[('preprocessor', preprocessor),('clusterer',Cluster_Adder_With_Deletion(K)),('model', xgb.XGBRegressor(**parameter))])\n",
    "\n",
    "    return np.mean(cross_val_score(pipeline, data, target, cv=3,))\n"
   ]
  },
  {
   "cell_type": "code",
   "execution_count": 28,
   "id": "47177412",
   "metadata": {},
   "outputs": [
    {
     "name": "stderr",
     "output_type": "stream",
     "text": [
      "\u001b[32m[I 2022-06-04 01:18:37,676]\u001b[0m A new study created in memory with name: Clusters\u001b[0m\n",
      "\u001b[32m[I 2022-06-04 01:18:58,342]\u001b[0m Trial 0 finished with value: 0.23596872877445244 and parameters: {'K': 49, 'alpha': 0.586115378490039, 'beta': 0.5112062934358915, 'depth': 3, 'childweight': 1, 'ourlearning_rate': 0.16652158965954714, 'colsample_bytree': 0.886433746569772, 'sample': 0.7372462553722179}. Best is trial 0 with value: 0.23596872877445244.\u001b[0m\n",
      "\u001b[32m[I 2022-06-04 01:19:44,369]\u001b[0m Trial 1 finished with value: 0.24901249098411884 and parameters: {'K': 197, 'alpha': 0.3012492037578842, 'beta': 0.5070936263454083, 'depth': 5, 'childweight': 2, 'ourlearning_rate': 0.09717343593273509, 'colsample_bytree': 0.6413545823242757, 'sample': 0.7596715169247216}. Best is trial 1 with value: 0.24901249098411884.\u001b[0m\n",
      "\u001b[32m[I 2022-06-04 01:20:24,174]\u001b[0m Trial 2 finished with value: 0.23387937638964876 and parameters: {'K': 166, 'alpha': 0.29889763999361907, 'beta': 0.24303913116734613, 'depth': 3, 'childweight': 0, 'ourlearning_rate': 0.5013983678302187, 'colsample_bytree': 0.5528544780152022, 'sample': 0.890094176592815}. Best is trial 1 with value: 0.24901249098411884.\u001b[0m\n",
      "\u001b[32m[I 2022-06-04 01:21:03,071]\u001b[0m Trial 3 finished with value: 0.22582268703389496 and parameters: {'K': 141, 'alpha': 0.5712114496699454, 'beta': 0.4307184188257881, 'depth': 5, 'childweight': 2, 'ourlearning_rate': 0.24559208715696948, 'colsample_bytree': 0.7066977078742325, 'sample': 0.6640832573740021}. Best is trial 1 with value: 0.24901249098411884.\u001b[0m\n",
      "\u001b[32m[I 2022-06-04 01:21:17,826]\u001b[0m Trial 4 finished with value: 0.25646286295098836 and parameters: {'K': 40, 'alpha': 0.10485751101052444, 'beta': 0.4612946015597227, 'depth': 3, 'childweight': 3, 'ourlearning_rate': 0.5351961021249795, 'colsample_bytree': 0.5368017069274649, 'sample': 0.8128306880612576}. Best is trial 4 with value: 0.25646286295098836.\u001b[0m\n",
      "\u001b[32m[I 2022-06-04 01:21:31,491]\u001b[0m Trial 5 finished with value: 0.25313797298755375 and parameters: {'K': 31, 'alpha': 0.14678790361643823, 'beta': 0.850503259190137, 'depth': 4, 'childweight': 2, 'ourlearning_rate': 0.3960510243058678, 'colsample_bytree': 0.6258632574343844, 'sample': 0.6971850041755785}. Best is trial 4 with value: 0.25646286295098836.\u001b[0m\n",
      "\u001b[32m[I 2022-06-04 01:22:10,944]\u001b[0m Trial 6 finished with value: 0.24781327548540102 and parameters: {'K': 120, 'alpha': 0.35941505850227407, 'beta': 0.4319756769312545, 'depth': 4, 'childweight': 0, 'ourlearning_rate': 0.2858544197236819, 'colsample_bytree': 0.607233842767009, 'sample': 0.7826285096244258}. Best is trial 4 with value: 0.25646286295098836.\u001b[0m\n",
      "\u001b[32m[I 2022-06-04 01:22:41,780]\u001b[0m Trial 7 finished with value: 0.19875651340224434 and parameters: {'K': 93, 'alpha': 0.7210030692918862, 'beta': 0.2613894868382109, 'depth': 3, 'childweight': 4, 'ourlearning_rate': 0.0867237975158831, 'colsample_bytree': 0.6501734819102105, 'sample': 0.6882370494551633}. Best is trial 4 with value: 0.25646286295098836.\u001b[0m\n",
      "\u001b[32m[I 2022-06-04 01:23:04,836]\u001b[0m Trial 8 finished with value: 0.19504850713922395 and parameters: {'K': 51, 'alpha': 0.8071766845901723, 'beta': 0.39803882331099705, 'depth': 4, 'childweight': 5, 'ourlearning_rate': 0.13011408264995442, 'colsample_bytree': 0.48151682852306577, 'sample': 0.5818164306438005}. Best is trial 4 with value: 0.25646286295098836.\u001b[0m\n",
      "\u001b[32m[I 2022-06-04 01:23:48,937]\u001b[0m Trial 9 finished with value: 0.24338377872270686 and parameters: {'K': 156, 'alpha': 0.25986503575159947, 'beta': 0.24876275335297207, 'depth': 4, 'childweight': 4, 'ourlearning_rate': 0.10431245322208775, 'colsample_bytree': 0.6478937431004854, 'sample': 0.6171385788219408}. Best is trial 4 with value: 0.25646286295098836.\u001b[0m\n",
      "\u001b[32m[I 2022-06-04 01:23:54,646]\u001b[0m Trial 10 finished with value: 0.13928384071083932 and parameters: {'K': 6, 'alpha': 0.9297482857799025, 'beta': 0.7507811382229946, 'depth': 3, 'childweight': 4, 'ourlearning_rate': 0.5888424377469011, 'colsample_bytree': 0.41892048802467596, 'sample': 0.4285267034928525}. Best is trial 4 with value: 0.25646286295098836.\u001b[0m\n",
      "\u001b[32m[I 2022-06-04 01:24:02,249]\u001b[0m Trial 11 finished with value: 0.2559373600354119 and parameters: {'K': 9, 'alpha': 0.14165286528400872, 'beta': 0.9783731269864322, 'depth': 4, 'childweight': 3, 'ourlearning_rate': 0.352616330010766, 'colsample_bytree': 0.7677571904752103, 'sample': 0.8705755505694377}. Best is trial 4 with value: 0.25646286295098836.\u001b[0m\n",
      "\u001b[32m[I 2022-06-04 01:24:09,072]\u001b[0m Trial 12 finished with value: 0.24371394813296565 and parameters: {'K': 6, 'alpha': 0.11481909286494375, 'beta': 0.9846021299415469, 'depth': 5, 'childweight': 4, 'ourlearning_rate': 0.3256713635193642, 'colsample_bytree': 0.8753738147600625, 'sample': 0.8616825480011697}. Best is trial 4 with value: 0.25646286295098836.\u001b[0m\n",
      "\u001b[32m[I 2022-06-04 01:24:39,697]\u001b[0m Trial 13 finished with value: 0.2504354317375793 and parameters: {'K': 81, 'alpha': 0.4401708635896492, 'beta': 0.6811847538030869, 'depth': 3, 'childweight': 3, 'ourlearning_rate': 0.05530745683829932, 'colsample_bytree': 0.758054008341496, 'sample': 0.8271257067042255}. Best is trial 4 with value: 0.25646286295098836.\u001b[0m\n",
      "\u001b[32m[I 2022-06-04 01:24:59,851]\u001b[0m Trial 14 finished with value: 0.25314388261086085 and parameters: {'K': 59, 'alpha': 0.11257388907875884, 'beta': 0.6683850762035164, 'depth': 4, 'childweight': 3, 'ourlearning_rate': 0.4242101528083626, 'colsample_bytree': 0.7784820332686597, 'sample': 0.8223213875910615}. Best is trial 4 with value: 0.25646286295098836.\u001b[0m\n",
      "\u001b[32m[I 2022-06-04 01:25:15,470]\u001b[0m Trial 15 finished with value: 0.2591853752400963 and parameters: {'K': 33, 'alpha': 0.19987654439292007, 'beta': 0.9784687413956942, 'depth': 3, 'childweight': 3, 'ourlearning_rate': 0.21387338401234873, 'colsample_bytree': 0.5350538421360403, 'sample': 0.8988704637807581}. Best is trial 15 with value: 0.2591853752400963.\u001b[0m\n",
      "\u001b[32m[I 2022-06-04 01:25:47,932]\u001b[0m Trial 16 finished with value: 0.2523696543676545 and parameters: {'K': 74, 'alpha': 0.4494553203169932, 'beta': 0.6035548413057755, 'depth': 3, 'childweight': 5, 'ourlearning_rate': 0.20983369128312693, 'colsample_bytree': 0.5207587037388213, 'sample': 0.4904525679970113}. Best is trial 15 with value: 0.2591853752400963.\u001b[0m\n",
      "\u001b[32m[I 2022-06-04 01:26:04,302]\u001b[0m Trial 17 finished with value: 0.17282657952337044 and parameters: {'K': 32, 'alpha': 0.21992751144783962, 'beta': 0.10730259183679436, 'depth': 3, 'childweight': 1, 'ourlearning_rate': 0.1746392977385073, 'colsample_bytree': 0.4043140009762164, 'sample': 0.8993123315976284}. Best is trial 15 with value: 0.2591853752400963.\u001b[0m\n",
      "\u001b[32m[I 2022-06-04 01:26:39,687]\u001b[0m Trial 18 finished with value: 0.24752652996892663 and parameters: {'K': 111, 'alpha': 0.4435354364444519, 'beta': 0.8718711109514445, 'depth': 3, 'childweight': 3, 'ourlearning_rate': 0.06021963495833737, 'colsample_bytree': 0.5534870808411847, 'sample': 0.8141573632033743}. Best is trial 15 with value: 0.2591853752400963.\u001b[0m\n",
      "\u001b[32m[I 2022-06-04 01:26:54,469]\u001b[0m Trial 19 finished with value: 0.25638129511300634 and parameters: {'K': 31, 'alpha': 0.2198530826887413, 'beta': 0.805059931101328, 'depth': 3, 'childweight': 1, 'ourlearning_rate': 0.23908348703064666, 'colsample_bytree': 0.4681121299785561, 'sample': 0.5604065930190025}. Best is trial 15 with value: 0.2591853752400963.\u001b[0m\n",
      "\u001b[32m[I 2022-06-04 01:27:21,916]\u001b[0m Trial 20 finished with value: 0.22759225664199143 and parameters: {'K': 61, 'alpha': 0.6725993553231414, 'beta': 0.609385132066231, 'depth': 3, 'childweight': 2, 'ourlearning_rate': 0.596125855084745, 'colsample_bytree': 0.5845244991409361, 'sample': 0.7295782044916157}. Best is trial 15 with value: 0.2591853752400963.\u001b[0m\n",
      "\u001b[32m[I 2022-06-04 01:27:37,179]\u001b[0m Trial 21 finished with value: 0.2586797039083887 and parameters: {'K': 30, 'alpha': 0.2068841802746884, 'beta': 0.8517146537457103, 'depth': 3, 'childweight': 1, 'ourlearning_rate': 0.2353339941072994, 'colsample_bytree': 0.47444770196432895, 'sample': 0.5669177943967288}. Best is trial 15 with value: 0.2591853752400963.\u001b[0m\n",
      "\u001b[32m[I 2022-06-04 01:27:52,223]\u001b[0m Trial 22 finished with value: 0.2512762783073163 and parameters: {'K': 29, 'alpha': 0.37725508427629445, 'beta': 0.9129570120161925, 'depth': 3, 'childweight': 1, 'ourlearning_rate': 0.15976805965382088, 'colsample_bytree': 0.4717980483483853, 'sample': 0.49359892005931594}. Best is trial 15 with value: 0.2591853752400963.\u001b[0m\n"
     ]
    },
    {
     "name": "stderr",
     "output_type": "stream",
     "text": [
      "\u001b[32m[I 2022-06-04 01:28:10,314]\u001b[0m Trial 23 finished with value: 0.2543154274048207 and parameters: {'K': 43, 'alpha': 0.19909830786079694, 'beta': 0.7532081802947215, 'depth': 3, 'childweight': 3, 'ourlearning_rate': 0.2804164736191705, 'colsample_bytree': 0.5124398067810731, 'sample': 0.5501993224608961}. Best is trial 15 with value: 0.2591853752400963.\u001b[0m\n",
      "\u001b[32m[I 2022-06-04 01:28:39,891]\u001b[0m Trial 24 finished with value: 0.25611212631892916 and parameters: {'K': 75, 'alpha': 0.3506891543438483, 'beta': 0.9286938840418915, 'depth': 3, 'childweight': 2, 'ourlearning_rate': 0.1921337561709016, 'colsample_bytree': 0.4424821517873081, 'sample': 0.6245049358564088}. Best is trial 15 with value: 0.2591853752400963.\u001b[0m\n"
     ]
    }
   ],
   "source": [
    "study_clusters = optuna.create_study(direction='maximize',study_name='Clusters')\n",
    "study_clusters.optimize(objective_clusters,n_trials=25)"
   ]
  },
  {
   "cell_type": "code",
   "execution_count": 531,
   "id": "e4a72014",
   "metadata": {},
   "outputs": [],
   "source": [
    "def objective_no_clusters(trial):\n",
    "    \n",
    "    data = df_small[['Start_date','Longitude','Latitude','License Status','Industry']]\n",
    "    target = df_small[['date_diffs']]\n",
    "    \n",
    "    alpha=trial.suggest_uniform('alpha',0.1,1)\n",
    "    \n",
    "    beta=trial.suggest_uniform('beta',0.1,1)\n",
    "    \n",
    "    parameter = {\n",
    "      'max_depth':trial.suggest_int('depth', 3, 5), # show integer parameters between 3 and 5 for depth\n",
    "      'min_child_weight':trial.suggest_int('childweight',0,5), # show integer parameters between 0 and 5 for childweight\n",
    "      'learning_rate':trial.suggest_loguniform('ourlearning_rate',0.05,0.6), # set a log distribution between 0.05 and 0.5 for learning rate\n",
    "      'colsample_bytree':trial.suggest_uniform('colsample_bytree',0.4,0.9), # set a uniformly distributed numbers between 0.4 and 0.9 for colsample_bytree\n",
    "      'subsample':trial.suggest_uniform('sample',0.4,0.9)\n",
    "    }\n",
    "    \n",
    "    # preprocessor to avoid data leakage\n",
    "    preprocessor = ColumnTransformer(transformers = [('scaler1', MinMaxScaler((0,alpha)),['Longitude', 'Latitude']),('scaler2', MinMaxScaler((0,beta)),['Start_date']), ('onehot', OneHotEncoder(sparse=False,handle_unknown = 'ignore'), ['Industry'])])\n",
    "    \n",
    "    # Add a callback for pruning.\n",
    "    pruning_callback = optuna.integration.XGBoostPruningCallback(trial, \"validation-erorr\")\n",
    "    \n",
    "    pipeline = Pipeline(steps=[('preprocessor', preprocessor),('model', xgb.XGBRegressor(**parameter))])\n",
    "\n",
    "    return np.mean(cross_val_score(pipeline, data, target, cv=3))\n"
   ]
  },
  {
   "cell_type": "code",
   "execution_count": 532,
   "id": "287f0cbb",
   "metadata": {},
   "outputs": [
    {
     "name": "stderr",
     "output_type": "stream",
     "text": [
      "\u001b[32m[I 2022-06-03 21:53:36,365]\u001b[0m A new study created in memory with name: No Clusters\u001b[0m\n",
      "\u001b[32m[I 2022-06-03 21:53:38,503]\u001b[0m Trial 0 finished with value: 0.22924773865689194 and parameters: {'alpha': 0.854084906587587, 'beta': 0.4855154232172746, 'depth': 4, 'childweight': 0, 'ourlearning_rate': 0.3247063181156315, 'colsample_bytree': 0.7680860773013716, 'sample': 0.7350400907839559}. Best is trial 0 with value: 0.22924773865689194.\u001b[0m\n",
      "\u001b[32m[I 2022-06-03 21:53:40,504]\u001b[0m Trial 1 finished with value: 0.2573266376473112 and parameters: {'alpha': 0.6272353504758643, 'beta': 0.8702833613969365, 'depth': 4, 'childweight': 4, 'ourlearning_rate': 0.12296453138158003, 'colsample_bytree': 0.6784496264661272, 'sample': 0.42129718625222634}. Best is trial 1 with value: 0.2573266376473112.\u001b[0m\n",
      "\u001b[32m[I 2022-06-03 21:53:42,497]\u001b[0m Trial 2 finished with value: 0.2590366579059769 and parameters: {'alpha': 0.40668507100781437, 'beta': 0.1823982045539866, 'depth': 4, 'childweight': 5, 'ourlearning_rate': 0.05025128275895816, 'colsample_bytree': 0.4572011479434268, 'sample': 0.4487436566312496}. Best is trial 2 with value: 0.2590366579059769.\u001b[0m\n",
      "\u001b[32m[I 2022-06-03 21:53:47,474]\u001b[0m Trial 3 finished with value: 0.26285311593100186 and parameters: {'alpha': 0.9278212979187273, 'beta': 0.484311400534309, 'depth': 4, 'childweight': 3, 'ourlearning_rate': 0.06558843840615, 'colsample_bytree': 0.7670616866580839, 'sample': 0.44022346739457663}. Best is trial 3 with value: 0.26285311593100186.\u001b[0m\n",
      "\u001b[32m[I 2022-06-03 21:53:53,133]\u001b[0m Trial 4 finished with value: 0.2482430517207633 and parameters: {'alpha': 0.48070169483436753, 'beta': 0.6020106382730822, 'depth': 3, 'childweight': 5, 'ourlearning_rate': 0.19529482893074815, 'colsample_bytree': 0.8060728719258877, 'sample': 0.4429269571828601}. Best is trial 3 with value: 0.26285311593100186.\u001b[0m\n",
      "\u001b[32m[I 2022-06-03 21:53:59,079]\u001b[0m Trial 5 finished with value: 0.17549697244964224 and parameters: {'alpha': 0.9168655521785123, 'beta': 0.9494946940694017, 'depth': 4, 'childweight': 0, 'ourlearning_rate': 0.5254272427467347, 'colsample_bytree': 0.7875343491682794, 'sample': 0.7268790952930535}. Best is trial 3 with value: 0.26285311593100186.\u001b[0m\n",
      "\u001b[32m[I 2022-06-03 21:54:03,483]\u001b[0m Trial 6 finished with value: 0.26122284724533096 and parameters: {'alpha': 0.14387260832908727, 'beta': 0.3136779666197095, 'depth': 4, 'childweight': 2, 'ourlearning_rate': 0.050412445874162166, 'colsample_bytree': 0.4626761827878231, 'sample': 0.7893812901345247}. Best is trial 3 with value: 0.26285311593100186.\u001b[0m\n",
      "\u001b[32m[I 2022-06-03 21:54:07,905]\u001b[0m Trial 7 finished with value: 0.24907509751293114 and parameters: {'alpha': 0.6931592941145192, 'beta': 0.8627339460214494, 'depth': 5, 'childweight': 3, 'ourlearning_rate': 0.20774932807029733, 'colsample_bytree': 0.43729942292114043, 'sample': 0.7700124742339921}. Best is trial 3 with value: 0.26285311593100186.\u001b[0m\n",
      "\u001b[32m[I 2022-06-03 21:54:11,817]\u001b[0m Trial 8 finished with value: 0.25902541174103805 and parameters: {'alpha': 0.8645921944723063, 'beta': 0.6863196522754423, 'depth': 4, 'childweight': 4, 'ourlearning_rate': 0.18257911310868608, 'colsample_bytree': 0.4996061489553329, 'sample': 0.7368401456944904}. Best is trial 3 with value: 0.26285311593100186.\u001b[0m\n",
      "\u001b[32m[I 2022-06-03 21:54:17,197]\u001b[0m Trial 9 finished with value: 0.2450567478350675 and parameters: {'alpha': 0.3655306453157374, 'beta': 0.1587031627469569, 'depth': 5, 'childweight': 1, 'ourlearning_rate': 0.21278365219401524, 'colsample_bytree': 0.6799238466870303, 'sample': 0.7321810305048675}. Best is trial 3 with value: 0.26285311593100186.\u001b[0m\n",
      "\u001b[32m[I 2022-06-03 21:54:22,413]\u001b[0m Trial 10 finished with value: 0.2602716430179623 and parameters: {'alpha': 0.9821638975353083, 'beta': 0.40924240859193406, 'depth': 3, 'childweight': 2, 'ourlearning_rate': 0.08978122237472125, 'colsample_bytree': 0.8957249766912359, 'sample': 0.5283293409197518}. Best is trial 3 with value: 0.26285311593100186.\u001b[0m\n",
      "\u001b[32m[I 2022-06-03 21:54:26,590]\u001b[0m Trial 11 finished with value: 0.2605529833440325 and parameters: {'alpha': 0.11713093447498413, 'beta': 0.33003261055298516, 'depth': 3, 'childweight': 2, 'ourlearning_rate': 0.056218692993543755, 'colsample_bytree': 0.5670806370585242, 'sample': 0.889541643624512}. Best is trial 3 with value: 0.26285311593100186.\u001b[0m\n",
      "\u001b[32m[I 2022-06-03 21:54:31,814]\u001b[0m Trial 12 finished with value: 0.2649414620758183 and parameters: {'alpha': 0.21960175068154694, 'beta': 0.31023339027840025, 'depth': 5, 'childweight': 3, 'ourlearning_rate': 0.08228067957935134, 'colsample_bytree': 0.5708402387289951, 'sample': 0.5946229729774827}. Best is trial 12 with value: 0.2649414620758183.\u001b[0m\n",
      "\u001b[32m[I 2022-06-03 21:54:37,506]\u001b[0m Trial 13 finished with value: 0.25985883833355167 and parameters: {'alpha': 0.2569371236156562, 'beta': 0.6772784478175011, 'depth': 5, 'childweight': 3, 'ourlearning_rate': 0.08740850644120844, 'colsample_bytree': 0.5861621167925636, 'sample': 0.5743896911004025}. Best is trial 12 with value: 0.2649414620758183.\u001b[0m\n",
      "\u001b[32m[I 2022-06-03 21:54:42,792]\u001b[0m Trial 14 finished with value: 0.2640888950155316 and parameters: {'alpha': 0.7307609504116941, 'beta': 0.2938227821305324, 'depth': 5, 'childweight': 4, 'ourlearning_rate': 0.07864890670660955, 'colsample_bytree': 0.6052077937560131, 'sample': 0.6064559066848942}. Best is trial 12 with value: 0.2649414620758183.\u001b[0m\n",
      "\u001b[32m[I 2022-06-03 21:54:48,307]\u001b[0m Trial 15 finished with value: 0.2613542319985292 and parameters: {'alpha': 0.7368090375141921, 'beta': 0.2674947866141559, 'depth': 5, 'childweight': 4, 'ourlearning_rate': 0.10872315001821739, 'colsample_bytree': 0.5914610796752978, 'sample': 0.624536280792664}. Best is trial 12 with value: 0.2649414620758183.\u001b[0m\n",
      "\u001b[32m[I 2022-06-03 21:54:52,743]\u001b[0m Trial 16 finished with value: 0.2589518430112665 and parameters: {'alpha': 0.5634666276935166, 'beta': 0.10133673171910618, 'depth': 5, 'childweight': 4, 'ourlearning_rate': 0.12758648802911196, 'colsample_bytree': 0.5246249014175881, 'sample': 0.6457094905858461}. Best is trial 12 with value: 0.2649414620758183.\u001b[0m\n",
      "\u001b[32m[I 2022-06-03 21:54:57,438]\u001b[0m Trial 17 finished with value: 0.26165172214643334 and parameters: {'alpha': 0.7793709636238569, 'beta': 0.24753741086474668, 'depth': 5, 'childweight': 5, 'ourlearning_rate': 0.07704472333548344, 'colsample_bytree': 0.6510264850367002, 'sample': 0.5417452846763486}. Best is trial 12 with value: 0.2649414620758183.\u001b[0m\n",
      "\u001b[32m[I 2022-06-03 21:55:01,778]\u001b[0m Trial 18 finished with value: 0.25430660714595793 and parameters: {'alpha': 0.2917782445157394, 'beta': 0.4130047118254908, 'depth': 5, 'childweight': 1, 'ourlearning_rate': 0.15264117387100518, 'colsample_bytree': 0.400980309217541, 'sample': 0.6017244772229874}. Best is trial 12 with value: 0.2649414620758183.\u001b[0m\n",
      "\u001b[32m[I 2022-06-03 21:55:06,736]\u001b[0m Trial 19 finished with value: 0.26225773366834954 and parameters: {'alpha': 0.49841251452661883, 'beta': 0.37695630336368885, 'depth': 5, 'childweight': 3, 'ourlearning_rate': 0.07047413881627232, 'colsample_bytree': 0.6218133243909851, 'sample': 0.48998106792569923}. Best is trial 12 with value: 0.2649414620758183.\u001b[0m\n",
      "\u001b[32m[I 2022-06-03 21:55:11,426]\u001b[0m Trial 20 finished with value: 0.22673025692122742 and parameters: {'alpha': 0.6279869817259075, 'beta': 0.5123780400324626, 'depth': 5, 'childweight': 4, 'ourlearning_rate': 0.272488070131951, 'colsample_bytree': 0.5441907395418086, 'sample': 0.6755477439019448}. Best is trial 12 with value: 0.2649414620758183.\u001b[0m\n",
      "\u001b[32m[I 2022-06-03 21:55:15,882]\u001b[0m Trial 21 finished with value: 0.2630694008461329 and parameters: {'alpha': 0.9996412449117024, 'beta': 0.45849731974269703, 'depth': 4, 'childweight': 3, 'ourlearning_rate': 0.06374620554253095, 'colsample_bytree': 0.7407333399550597, 'sample': 0.4910973100964785}. Best is trial 12 with value: 0.2649414620758183.\u001b[0m\n",
      "\u001b[32m[I 2022-06-03 21:55:20,500]\u001b[0m Trial 22 finished with value: 0.26161056641653085 and parameters: {'alpha': 0.8002227188542479, 'beta': 0.23482504029049112, 'depth': 4, 'childweight': 3, 'ourlearning_rate': 0.09591913259684536, 'colsample_bytree': 0.724204094412538, 'sample': 0.5210188948830162}. Best is trial 12 with value: 0.2649414620758183.\u001b[0m\n"
     ]
    },
    {
     "name": "stderr",
     "output_type": "stream",
     "text": [
      "\u001b[32m[I 2022-06-03 21:55:25,883]\u001b[0m Trial 23 finished with value: 0.263275193542402 and parameters: {'alpha': 0.2144506329797492, 'beta': 0.5705564338017767, 'depth': 5, 'childweight': 2, 'ourlearning_rate': 0.06742075184804985, 'colsample_bytree': 0.715227838592398, 'sample': 0.573719451907023}. Best is trial 12 with value: 0.2649414620758183.\u001b[0m\n",
      "\u001b[32m[I 2022-06-03 21:55:30,794]\u001b[0m Trial 24 finished with value: 0.2649666455657007 and parameters: {'alpha': 0.2050545815704506, 'beta': 0.5820437900729117, 'depth': 5, 'childweight': 1, 'ourlearning_rate': 0.07877940303841176, 'colsample_bytree': 0.6259669172923449, 'sample': 0.5933566047260158}. Best is trial 24 with value: 0.2649666455657007.\u001b[0m\n"
     ]
    }
   ],
   "source": [
    "study_no_clusters = optuna.create_study(direction='maximize',study_name='No Clusters')\n",
    "study_no_clusters.optimize(objective_no_clusters,n_trials=25)"
   ]
  },
  {
   "cell_type": "code",
   "execution_count": 529,
   "id": "1190db6f",
   "metadata": {},
   "outputs": [],
   "source": [
    "def objective_empty(trial):\n",
    "    \n",
    "    data = df_small[['License Status','Industry']]\n",
    "    target = df_small[['date_diffs']]\n",
    "    parameter = {\n",
    "      'max_depth':trial.suggest_int('depth', 3, 5), # show integer parameters between 3 and 5 for depth\n",
    "      'min_child_weight':trial.suggest_int('childweight',0,5), # show integer parameters between 0 and 5 for childweight\n",
    "      'learning_rate':trial.suggest_loguniform('ourlearning_rate',0.05,0.6), # set a log distribution between 0.05 and 0.5 for learning rate\n",
    "      'colsample_bytree':trial.suggest_uniform('colsample_bytree',0.4,0.9), # set a uniformly distributed numbers between 0.4 and 0.9 for colsample_bytree\n",
    "      'subsample':trial.suggest_uniform('sample',0.4,0.9)\n",
    "    }\n",
    "    \n",
    "    # preprocessor to avoid data leakage\n",
    "    preprocessor = ColumnTransformer(transformers = [('onehot', OneHotEncoder(sparse=False,handle_unknown = 'ignore'), ['Industry'])])\n",
    "    \n",
    "    # Add a callback for pruning.\n",
    "    pruning_callback = optuna.integration.XGBoostPruningCallback(trial, \"validation-erorr\")\n",
    "    \n",
    "    pipeline = Pipeline(steps=[('preprocessor', preprocessor),('model', xgb.XGBRegressor(**parameter))])\n",
    "\n",
    "    return np.mean(cross_val_score(pipeline, data, target, cv=3))\n"
   ]
  },
  {
   "cell_type": "code",
   "execution_count": 530,
   "id": "e5ea0c56",
   "metadata": {},
   "outputs": [
    {
     "name": "stderr",
     "output_type": "stream",
     "text": [
      "\u001b[32m[I 2022-06-03 21:52:42,944]\u001b[0m A new study created in memory with name: Empty\u001b[0m\n",
      "\u001b[32m[I 2022-06-03 21:52:44,474]\u001b[0m Trial 0 finished with value: 0.048790136675298044 and parameters: {'depth': 4, 'childweight': 5, 'ourlearning_rate': 0.18167838611750486, 'colsample_bytree': 0.6418584114077657, 'sample': 0.502936623145783}. Best is trial 0 with value: 0.048790136675298044.\u001b[0m\n",
      "\u001b[32m[I 2022-06-03 21:52:45,870]\u001b[0m Trial 1 finished with value: 0.049814245318445104 and parameters: {'depth': 3, 'childweight': 2, 'ourlearning_rate': 0.130863215118722, 'colsample_bytree': 0.7622182137407698, 'sample': 0.7645340904563582}. Best is trial 1 with value: 0.049814245318445104.\u001b[0m\n",
      "\u001b[32m[I 2022-06-03 21:52:47,272]\u001b[0m Trial 2 finished with value: 0.048272769581729956 and parameters: {'depth': 3, 'childweight': 1, 'ourlearning_rate': 0.0811369853638437, 'colsample_bytree': 0.8153794564593015, 'sample': 0.8455972872043664}. Best is trial 1 with value: 0.049814245318445104.\u001b[0m\n",
      "\u001b[32m[I 2022-06-03 21:52:48,527]\u001b[0m Trial 3 finished with value: 0.049540397886945566 and parameters: {'depth': 3, 'childweight': 3, 'ourlearning_rate': 0.40404041773631594, 'colsample_bytree': 0.5414709388343106, 'sample': 0.7500859643851254}. Best is trial 1 with value: 0.049814245318445104.\u001b[0m\n",
      "\u001b[32m[I 2022-06-03 21:52:49,747]\u001b[0m Trial 4 finished with value: 0.04908095786037333 and parameters: {'depth': 3, 'childweight': 3, 'ourlearning_rate': 0.09381304475661317, 'colsample_bytree': 0.4623626769906582, 'sample': 0.8028078214083696}. Best is trial 1 with value: 0.049814245318445104.\u001b[0m\n",
      "\u001b[32m[I 2022-06-03 21:52:51,145]\u001b[0m Trial 5 finished with value: 0.049154310279949175 and parameters: {'depth': 3, 'childweight': 4, 'ourlearning_rate': 0.1073314574263881, 'colsample_bytree': 0.639538864126493, 'sample': 0.609906546455518}. Best is trial 1 with value: 0.049814245318445104.\u001b[0m\n",
      "\u001b[32m[I 2022-06-03 21:52:52,427]\u001b[0m Trial 6 finished with value: 0.05011361795892333 and parameters: {'depth': 3, 'childweight': 3, 'ourlearning_rate': 0.22638707712483025, 'colsample_bytree': 0.532225290712326, 'sample': 0.7784803039366948}. Best is trial 6 with value: 0.05011361795892333.\u001b[0m\n",
      "\u001b[32m[I 2022-06-03 21:52:54,142]\u001b[0m Trial 7 finished with value: 0.048710343247252576 and parameters: {'depth': 4, 'childweight': 4, 'ourlearning_rate': 0.33404610982366173, 'colsample_bytree': 0.8507134600898785, 'sample': 0.42733844036007035}. Best is trial 6 with value: 0.05011361795892333.\u001b[0m\n",
      "\u001b[32m[I 2022-06-03 21:52:55,624]\u001b[0m Trial 8 finished with value: 0.04751418237923832 and parameters: {'depth': 3, 'childweight': 5, 'ourlearning_rate': 0.08215095374566693, 'colsample_bytree': 0.7026600004541375, 'sample': 0.5995139445081612}. Best is trial 6 with value: 0.05011361795892333.\u001b[0m\n",
      "\u001b[32m[I 2022-06-03 21:52:57,576]\u001b[0m Trial 9 finished with value: 0.048602163354562355 and parameters: {'depth': 5, 'childweight': 0, 'ourlearning_rate': 0.49389910941871423, 'colsample_bytree': 0.6933118214773542, 'sample': 0.5939074087304616}. Best is trial 6 with value: 0.05011361795892333.\u001b[0m\n",
      "\u001b[32m[I 2022-06-03 21:52:59,114]\u001b[0m Trial 10 finished with value: 0.05004193914461915 and parameters: {'depth': 5, 'childweight': 2, 'ourlearning_rate': 0.23462439618846304, 'colsample_bytree': 0.40021181413653306, 'sample': 0.8900515034744234}. Best is trial 6 with value: 0.05011361795892333.\u001b[0m\n",
      "\u001b[32m[I 2022-06-03 21:53:00,686]\u001b[0m Trial 11 finished with value: 0.0500405326919825 and parameters: {'depth': 5, 'childweight': 2, 'ourlearning_rate': 0.22969666235495378, 'colsample_bytree': 0.40185093731694727, 'sample': 0.8886898919384985}. Best is trial 6 with value: 0.05011361795892333.\u001b[0m\n",
      "\u001b[32m[I 2022-06-03 21:53:02,421]\u001b[0m Trial 12 finished with value: 0.04983751485428978 and parameters: {'depth': 5, 'childweight': 1, 'ourlearning_rate': 0.263599629845171, 'colsample_bytree': 0.5187864171672786, 'sample': 0.7071224844482608}. Best is trial 6 with value: 0.05011361795892333.\u001b[0m\n",
      "\u001b[32m[I 2022-06-03 21:53:03,855]\u001b[0m Trial 13 finished with value: 0.05065582256531805 and parameters: {'depth': 4, 'childweight': 2, 'ourlearning_rate': 0.1631407453040495, 'colsample_bytree': 0.4002938793350164, 'sample': 0.8981475391440892}. Best is trial 13 with value: 0.05065582256531805.\u001b[0m\n",
      "\u001b[32m[I 2022-06-03 21:53:05,441]\u001b[0m Trial 14 finished with value: 0.04697132138520813 and parameters: {'depth': 4, 'childweight': 3, 'ourlearning_rate': 0.051928215072643585, 'colsample_bytree': 0.5470925155460132, 'sample': 0.6908226562756409}. Best is trial 13 with value: 0.05065582256531805.\u001b[0m\n",
      "\u001b[32m[I 2022-06-03 21:53:06,950]\u001b[0m Trial 15 finished with value: 0.05043087275244821 and parameters: {'depth': 4, 'childweight': 1, 'ourlearning_rate': 0.15841907977280817, 'colsample_bytree': 0.47970697125185696, 'sample': 0.8172713747635849}. Best is trial 13 with value: 0.05065582256531805.\u001b[0m\n",
      "\u001b[32m[I 2022-06-03 21:53:08,414]\u001b[0m Trial 16 finished with value: 0.05068590541200124 and parameters: {'depth': 4, 'childweight': 0, 'ourlearning_rate': 0.14879958272305668, 'colsample_bytree': 0.45587881556204624, 'sample': 0.8466733524225213}. Best is trial 16 with value: 0.05068590541200124.\u001b[0m\n",
      "\u001b[32m[I 2022-06-03 21:53:09,896]\u001b[0m Trial 17 finished with value: 0.05063656497622707 and parameters: {'depth': 4, 'childweight': 0, 'ourlearning_rate': 0.14357419487315043, 'colsample_bytree': 0.46021812322667843, 'sample': 0.8935865915954712}. Best is trial 16 with value: 0.05068590541200124.\u001b[0m\n",
      "\u001b[32m[I 2022-06-03 21:53:11,520]\u001b[0m Trial 18 finished with value: 0.04750215291573893 and parameters: {'depth': 4, 'childweight': 0, 'ourlearning_rate': 0.057804680154172, 'colsample_bytree': 0.433861843839349, 'sample': 0.8416237725341427}. Best is trial 16 with value: 0.05068590541200124.\u001b[0m\n",
      "\u001b[32m[I 2022-06-03 21:53:13,298]\u001b[0m Trial 19 finished with value: 0.0497179630629789 and parameters: {'depth': 4, 'childweight': 1, 'ourlearning_rate': 0.11885222230139646, 'colsample_bytree': 0.5718199885067281, 'sample': 0.6628296742579145}. Best is trial 16 with value: 0.05068590541200124.\u001b[0m\n",
      "\u001b[32m[I 2022-06-03 21:53:14,972]\u001b[0m Trial 20 finished with value: 0.04983872618045726 and parameters: {'depth': 4, 'childweight': 0, 'ourlearning_rate': 0.17432600715782567, 'colsample_bytree': 0.594462434600143, 'sample': 0.7314099499644258}. Best is trial 16 with value: 0.05068590541200124.\u001b[0m\n",
      "\u001b[32m[I 2022-06-03 21:53:16,466]\u001b[0m Trial 21 finished with value: 0.05046687018122442 and parameters: {'depth': 4, 'childweight': 0, 'ourlearning_rate': 0.14777151370302358, 'colsample_bytree': 0.47798482620723104, 'sample': 0.8964169761488645}. Best is trial 16 with value: 0.05068590541200124.\u001b[0m\n",
      "\u001b[32m[I 2022-06-03 21:53:17,998]\u001b[0m Trial 22 finished with value: 0.05026577792706999 and parameters: {'depth': 4, 'childweight': 1, 'ourlearning_rate': 0.19255273386694546, 'colsample_bytree': 0.4408103118936055, 'sample': 0.8484997589862522}. Best is trial 16 with value: 0.05068590541200124.\u001b[0m\n",
      "\u001b[32m[I 2022-06-03 21:53:19,513]\u001b[0m Trial 23 finished with value: 0.050457599853785395 and parameters: {'depth': 4, 'childweight': 0, 'ourlearning_rate': 0.13619806743981164, 'colsample_bytree': 0.49604905135731214, 'sample': 0.8587934879262529}. Best is trial 16 with value: 0.05068590541200124.\u001b[0m\n",
      "\u001b[32m[I 2022-06-03 21:53:21,034]\u001b[0m Trial 24 finished with value: 0.04994412243296124 and parameters: {'depth': 4, 'childweight': 2, 'ourlearning_rate': 0.2940699667148807, 'colsample_bytree': 0.44315922994782275, 'sample': 0.8028673980171968}. Best is trial 16 with value: 0.05068590541200124.\u001b[0m\n"
     ]
    }
   ],
   "source": [
    "study_empty = optuna.create_study(direction='maximize',study_name='Empty')\n",
    "study_empty.optimize(objective_empty,n_trials=25)"
   ]
  },
  {
   "cell_type": "code",
   "execution_count": 32,
   "id": "000f38be",
   "metadata": {},
   "outputs": [],
   "source": [
    "def objective_clusters_big_data(trial):\n",
    "    \n",
    "    data = df[['Start_date','Longitude','Latitude','License Status','Industry']]\n",
    "    target = df[['date_diffs']]\n",
    "    \n",
    "    K = trial.suggest_int(\"K\", 2, 500)\n",
    "    \n",
    "    alpha=trial.suggest_uniform('alpha',0.1,1)\n",
    "    \n",
    "    beta=trial.suggest_uniform('beta',0.1,1)\n",
    "    \n",
    "    parameter = {\n",
    "      'max_depth':trial.suggest_int('depth', 3, 5), # show integer parameters between 3 and 5 for depth\n",
    "      'min_child_weight':trial.suggest_int('childweight',0,5), # show integer parameters between 0 and 5 for childweight\n",
    "      'learning_rate':trial.suggest_loguniform('ourlearning_rate',0.05,0.6), # set a log distribution between 0.05 and 0.5 for learning rate\n",
    "      'colsample_bytree':trial.suggest_uniform('colsample_bytree',0.4,0.9), # set a uniformly distributed numbers between 0.4 and 0.9 for colsample_bytree\n",
    "      'subsample':trial.suggest_uniform('sample',0.4,0.9)\n",
    "    }\n",
    "    \n",
    "    # preprocessor to avoid data leakage\n",
    "    preprocessor = ColumnTransformer(transformers = [('scaler1', MinMaxScaler((0,alpha)),['Longitude', 'Latitude']),('scaler2', MinMaxScaler((0,beta)),['Start_date']), ('onehot', OneHotEncoder(sparse=False,handle_unknown = 'ignore'), ['Industry'])])\n",
    "    \n",
    "    # Add a callback for pruning.\n",
    "    pruning_callback = optuna.integration.XGBoostPruningCallback(trial, \"validation-erorr\")\n",
    "    \n",
    "    pipeline = Pipeline(steps=[('preprocessor', preprocessor),('clusterer',Cluster_Adder_With_Deletion(K)),('model', xgb.XGBRegressor(**parameter))])\n",
    "\n",
    "    return np.mean(cross_val_score(pipeline, data, target, cv=5))\n"
   ]
  },
  {
   "cell_type": "code",
   "execution_count": 34,
   "id": "e495fb52",
   "metadata": {},
   "outputs": [
    {
     "name": "stderr",
     "output_type": "stream",
     "text": [
      "\u001b[32m[I 2022-06-04 01:35:44,077]\u001b[0m A new study created in memory with name: Clusters\u001b[0m\n",
      "\u001b[32m[I 2022-06-04 01:52:05,392]\u001b[0m Trial 0 finished with value: -0.32329730645861726 and parameters: {'K': 135, 'alpha': 0.17593708960877896, 'beta': 0.22680229002894353, 'depth': 3, 'childweight': 3, 'ourlearning_rate': 0.22390658337636565, 'colsample_bytree': 0.5707871507409993, 'sample': 0.7577708118598057}. Best is trial 0 with value: -0.32329730645861726.\u001b[0m\n",
      "\u001b[32m[I 2022-06-04 01:54:15,018]\u001b[0m Trial 1 finished with value: -0.2707871919754828 and parameters: {'K': 11, 'alpha': 0.6806864908783613, 'beta': 0.4685650097405637, 'depth': 5, 'childweight': 2, 'ourlearning_rate': 0.23944578253426937, 'colsample_bytree': 0.6980885827705957, 'sample': 0.8011641978924473}. Best is trial 1 with value: -0.2707871919754828.\u001b[0m\n",
      "\u001b[32m[I 2022-06-04 02:09:23,020]\u001b[0m Trial 2 finished with value: -0.3331237895810167 and parameters: {'K': 159, 'alpha': 0.9269366775815344, 'beta': 0.4530218509002504, 'depth': 5, 'childweight': 2, 'ourlearning_rate': 0.40586826417550104, 'colsample_bytree': 0.4898198178559385, 'sample': 0.5659576233148216}. Best is trial 1 with value: -0.2707871919754828.\u001b[0m\n",
      "\u001b[32m[I 2022-06-04 02:22:39,667]\u001b[0m Trial 3 finished with value: -0.3093385554150536 and parameters: {'K': 93, 'alpha': 0.18896113413599688, 'beta': 0.2652972386541632, 'depth': 5, 'childweight': 4, 'ourlearning_rate': 0.15679723101345167, 'colsample_bytree': 0.7900867422765534, 'sample': 0.4702938603953691}. Best is trial 1 with value: -0.2707871919754828.\u001b[0m\n",
      "\u001b[32m[I 2022-06-04 02:23:49,475]\u001b[0m Trial 4 finished with value: -0.06015334197185325 and parameters: {'K': 3, 'alpha': 0.8540065796977916, 'beta': 0.4063808645783955, 'depth': 3, 'childweight': 3, 'ourlearning_rate': 0.15879488793859667, 'colsample_bytree': 0.8675272733850709, 'sample': 0.5384299042214301}. Best is trial 4 with value: -0.06015334197185325.\u001b[0m\n",
      "\u001b[32m[I 2022-06-04 02:52:28,761]\u001b[0m Trial 5 finished with value: -0.3119361174061935 and parameters: {'K': 322, 'alpha': 0.9302642792398572, 'beta': 0.7871686866216572, 'depth': 4, 'childweight': 3, 'ourlearning_rate': 0.1285855172963135, 'colsample_bytree': 0.5216691552015333, 'sample': 0.8544404180805254}. Best is trial 4 with value: -0.06015334197185325.\u001b[0m\n",
      "\u001b[32m[I 2022-06-04 03:26:53,658]\u001b[0m Trial 6 finished with value: -0.3066594296656963 and parameters: {'K': 485, 'alpha': 0.32468315256680463, 'beta': 0.8754442567577743, 'depth': 4, 'childweight': 1, 'ourlearning_rate': 0.4153013501436842, 'colsample_bytree': 0.4756712975093615, 'sample': 0.8952934106291957}. Best is trial 4 with value: -0.06015334197185325.\u001b[0m\n",
      "\u001b[32m[I 2022-06-04 03:34:41,835]\u001b[0m Trial 7 finished with value: -0.2962960975990946 and parameters: {'K': 50, 'alpha': 0.6463196978640897, 'beta': 0.3432058028307214, 'depth': 4, 'childweight': 2, 'ourlearning_rate': 0.05215060328170076, 'colsample_bytree': 0.8426734487404686, 'sample': 0.4218543433328022}. Best is trial 4 with value: -0.06015334197185325.\u001b[0m\n",
      "\u001b[32m[I 2022-06-04 04:00:17,219]\u001b[0m Trial 8 finished with value: -0.3389520556168871 and parameters: {'K': 311, 'alpha': 0.9969708085076253, 'beta': 0.3954515968159106, 'depth': 3, 'childweight': 0, 'ourlearning_rate': 0.11757415939513567, 'colsample_bytree': 0.5271907090518204, 'sample': 0.7943380149424113}. Best is trial 4 with value: -0.06015334197185325.\u001b[0m\n",
      "\u001b[32m[I 2022-06-04 04:10:38,327]\u001b[0m Trial 9 finished with value: -0.3124752038119235 and parameters: {'K': 64, 'alpha': 0.3407297077500279, 'beta': 0.7320038432179478, 'depth': 5, 'childweight': 1, 'ourlearning_rate': 0.086283770510469, 'colsample_bytree': 0.7052822705851085, 'sample': 0.836600869195383}. Best is trial 4 with value: -0.06015334197185325.\u001b[0m\n",
      "\u001b[32m[I 2022-06-04 04:26:14,456]\u001b[0m Trial 10 finished with value: -0.23841559666382542 and parameters: {'K': 229, 'alpha': 0.7488457607721959, 'beta': 0.11590761540782202, 'depth': 3, 'childweight': 5, 'ourlearning_rate': 0.580289077487296, 'colsample_bytree': 0.8825813500351319, 'sample': 0.6431607706201755}. Best is trial 4 with value: -0.06015334197185325.\u001b[0m\n",
      "\u001b[32m[I 2022-06-04 04:39:31,279]\u001b[0m Trial 11 finished with value: -0.20184090094152177 and parameters: {'K': 188, 'alpha': 0.7363741545153668, 'beta': 0.1044400498956472, 'depth': 3, 'childweight': 5, 'ourlearning_rate': 0.5585351251787222, 'colsample_bytree': 0.897064017844037, 'sample': 0.6449974896648828}. Best is trial 4 with value: -0.06015334197185325.\u001b[0m\n",
      "\u001b[32m[I 2022-06-04 05:12:31,569]\u001b[0m Trial 12 finished with value: -0.3142359765864827 and parameters: {'K': 438, 'alpha': 0.7917984471097282, 'beta': 0.5995463559346772, 'depth': 3, 'childweight': 5, 'ourlearning_rate': 0.2577872303362175, 'colsample_bytree': 0.790907786392339, 'sample': 0.5614950036857339}. Best is trial 4 with value: -0.06015334197185325.\u001b[0m\n",
      "\u001b[32m[I 2022-06-04 05:29:16,084]\u001b[0m Trial 13 finished with value: -0.2845925172309819 and parameters: {'K': 220, 'alpha': 0.4936857572864871, 'beta': 0.10940114003889428, 'depth': 3, 'childweight': 4, 'ourlearning_rate': 0.07654932834693988, 'colsample_bytree': 0.8892750959399593, 'sample': 0.6935357441789861}. Best is trial 4 with value: -0.06015334197185325.\u001b[0m\n",
      "\u001b[32m[I 2022-06-04 05:59:41,312]\u001b[0m Trial 14 finished with value: -0.31150675370638875 and parameters: {'K': 341, 'alpha': 0.8169212849489932, 'beta': 0.6022512696564719, 'depth': 3, 'childweight': 4, 'ourlearning_rate': 0.34119418561366993, 'colsample_bytree': 0.7854479019596812, 'sample': 0.5563538630523052}. Best is trial 4 with value: -0.06015334197185325.\u001b[0m\n",
      "\u001b[32m[I 2022-06-04 06:19:01,310]\u001b[0m Trial 15 finished with value: -0.31296812376033045 and parameters: {'K': 175, 'alpha': 0.5272673921498856, 'beta': 0.9910343588435281, 'depth': 4, 'childweight': 5, 'ourlearning_rate': 0.596162689534725, 'colsample_bytree': 0.6277496270920574, 'sample': 0.6482411499384473}. Best is trial 4 with value: -0.06015334197185325.\u001b[0m\n",
      "\u001b[32m[I 2022-06-04 06:20:34,441]\u001b[0m Trial 16 finished with value: -0.05584293511465947 and parameters: {'K': 6, 'alpha': 0.6234560507830406, 'beta': 0.2536578083341523, 'depth': 3, 'childweight': 3, 'ourlearning_rate': 0.17684328859376885, 'colsample_bytree': 0.8325291520438799, 'sample': 0.4876302390330823}. Best is trial 16 with value: -0.05584293511465947.\u001b[0m\n",
      "\u001b[32m[I 2022-06-04 06:31:49,167]\u001b[0m Trial 17 finished with value: -0.3310299492882719 and parameters: {'K': 103, 'alpha': 0.599227288470266, 'beta': 0.28081263143473306, 'depth': 4, 'childweight': 3, 'ourlearning_rate': 0.1924833198740968, 'colsample_bytree': 0.4147476555690154, 'sample': 0.4983152673840215}. Best is trial 16 with value: -0.05584293511465947.\u001b[0m\n",
      "\u001b[32m[I 2022-06-04 06:33:22,597]\u001b[0m Trial 18 finished with value: -0.21084559143197099 and parameters: {'K': 6, 'alpha': 0.4431410925068744, 'beta': 0.48788558205657534, 'depth': 3, 'childweight': 3, 'ourlearning_rate': 0.12863638009934864, 'colsample_bytree': 0.7431710502737049, 'sample': 0.40423494707772917}. Best is trial 16 with value: -0.05584293511465947.\u001b[0m\n",
      "\u001b[32m[I 2022-06-04 06:39:13,939]\u001b[0m Trial 19 finished with value: -0.13878133139262006 and parameters: {'K': 50, 'alpha': 0.8441347712107031, 'beta': 0.20768997665694897, 'depth': 4, 'childweight': 1, 'ourlearning_rate': 0.09606247610448873, 'colsample_bytree': 0.8323101477568038, 'sample': 0.510762255706594}. Best is trial 16 with value: -0.05584293511465947.\u001b[0m\n",
      "\u001b[32m[I 2022-06-04 06:52:48,092]\u001b[0m Trial 20 finished with value: -0.3239946525525513 and parameters: {'K': 112, 'alpha': 0.40209905353759084, 'beta': 0.3554527727291605, 'depth': 3, 'childweight': 4, 'ourlearning_rate': 0.17145765645249872, 'colsample_bytree': 0.6411616399826326, 'sample': 0.5998520993246136}. Best is trial 16 with value: -0.05584293511465947.\u001b[0m\n",
      "\u001b[32m[I 2022-06-04 06:58:26,996]\u001b[0m Trial 21 finished with value: -0.14463721869014953 and parameters: {'K': 52, 'alpha': 0.8756174019919557, 'beta': 0.20778985133799424, 'depth': 4, 'childweight': 1, 'ourlearning_rate': 0.09102676417508017, 'colsample_bytree': 0.8329419641622703, 'sample': 0.50011733434109}. Best is trial 16 with value: -0.05584293511465947.\u001b[0m\n",
      "\u001b[32m[I 2022-06-04 07:00:14,290]\u001b[0m Trial 22 finished with value: -0.05105834753429206 and parameters: {'K': 10, 'alpha': 0.8624729890566708, 'beta': 0.20189836604616812, 'depth': 4, 'childweight': 0, 'ourlearning_rate': 0.06515214309789943, 'colsample_bytree': 0.834490669484953, 'sample': 0.4579443309559088}. Best is trial 22 with value: -0.05105834753429206.\u001b[0m\n"
     ]
    },
    {
     "name": "stderr",
     "output_type": "stream",
     "text": [
      "\u001b[32m[I 2022-06-04 07:04:43,357]\u001b[0m Trial 23 finished with value: -0.25467491638254086 and parameters: {'K': 34, 'alpha': 0.6924350722636963, 'beta': 0.34292188125076006, 'depth': 3, 'childweight': 0, 'ourlearning_rate': 0.07261973231944759, 'colsample_bytree': 0.7393257145536194, 'sample': 0.44154172185533186}. Best is trial 22 with value: -0.05105834753429206.\u001b[0m\n",
      "\u001b[32m[I 2022-06-04 07:14:38,301]\u001b[0m Trial 24 finished with value: -0.3342525175970238 and parameters: {'K': 85, 'alpha': 0.9993643931256448, 'beta': 0.5565724963130545, 'depth': 3, 'childweight': 2, 'ourlearning_rate': 0.05841932040796807, 'colsample_bytree': 0.8582125778359583, 'sample': 0.4730992851467611}. Best is trial 22 with value: -0.05105834753429206.\u001b[0m\n"
     ]
    }
   ],
   "source": [
    "study_clusters_big_data = optuna.create_study(direction='maximize',study_name='Clusters')\n",
    "study_clusters_big_data.optimize(objective_clusters_big_data,n_trials=25)"
   ]
  },
  {
   "cell_type": "code",
   "execution_count": 2,
   "id": "bdf34435",
   "metadata": {},
   "outputs": [],
   "source": [
    "def objective_no_clusters_big_data(trial):\n",
    "    \n",
    "    data = df[['Start_date','Longitude','Latitude','License Status','Industry']]\n",
    "    target = df[['date_diffs']]\n",
    "    \n",
    "    alpha=trial.suggest_uniform('alpha',0.1,1)\n",
    "    \n",
    "    beta=trial.suggest_uniform('beta',0.1,1)\n",
    "    \n",
    "    parameter = {\n",
    "      'max_depth':trial.suggest_int('depth', 3, 5), # show integer parameters between 3 and 5 for depth\n",
    "      'min_child_weight':trial.suggest_int('childweight',0,5), # show integer parameters between 0 and 5 for childweight\n",
    "      'learning_rate':trial.suggest_loguniform('ourlearning_rate',0.05,0.6), # set a log distribution between 0.05 and 0.5 for learning rate\n",
    "      'colsample_bytree':trial.suggest_uniform('colsample_bytree',0.4,0.9), # set a uniformly distributed numbers between 0.4 and 0.9 for colsample_bytree\n",
    "      'subsample':trial.suggest_uniform('sample',0.4,0.9)\n",
    "    }\n",
    "    \n",
    "    # preprocessor to avoid data leakage\n",
    "    preprocessor = ColumnTransformer(transformers = [('scaler1', MinMaxScaler((0,alpha)),['Longitude', 'Latitude']),('scaler2', MinMaxScaler((0,beta)),['Start_date']), ('onehot', OneHotEncoder(sparse=False,handle_unknown = 'ignore'), ['Industry'])])\n",
    "    \n",
    "    # Add a callback for pruning.\n",
    "    pruning_callback = optuna.integration.XGBoostPruningCallback(trial, \"validation-erorr\")\n",
    "    \n",
    "    pipeline = Pipeline(steps=[('preprocessor', preprocessor),('model', xgb.XGBRegressor(**parameter))])\n",
    "\n",
    "    return np.mean(cross_val_score(pipeline, data, target, cv=5))\n"
   ]
  },
  {
   "cell_type": "code",
   "execution_count": 5,
   "id": "b8f168cc",
   "metadata": {},
   "outputs": [
    {
     "name": "stderr",
     "output_type": "stream",
     "text": [
      "\u001b[32m[I 2022-06-27 09:15:37,489]\u001b[0m A new study created in memory with name: No Clusters\u001b[0m\n",
      "\u001b[32m[I 2022-06-27 09:16:01,958]\u001b[0m Trial 0 finished with value: -0.3069335761055729 and parameters: {'alpha': 0.979245718187961, 'beta': 0.5009059095735399, 'depth': 3, 'childweight': 1, 'ourlearning_rate': 0.18194606706362143, 'colsample_bytree': 0.7208838754447114, 'sample': 0.7912200304033714}. Best is trial 0 with value: -0.3069335761055729.\u001b[0m\n",
      "\u001b[32m[I 2022-06-27 09:16:34,896]\u001b[0m Trial 1 finished with value: -0.30230888008872353 and parameters: {'alpha': 0.7094782251065471, 'beta': 0.9808922375996135, 'depth': 4, 'childweight': 3, 'ourlearning_rate': 0.10011969839004746, 'colsample_bytree': 0.6527026807677803, 'sample': 0.6250901920344778}. Best is trial 1 with value: -0.30230888008872353.\u001b[0m\n",
      "\u001b[32m[I 2022-06-27 09:18:08,056]\u001b[0m Trial 2 finished with value: -0.2883779056457746 and parameters: {'alpha': 0.8834988750048103, 'beta': 0.8619957564085128, 'depth': 5, 'childweight': 4, 'ourlearning_rate': 0.13880427665552733, 'colsample_bytree': 0.7932265871536412, 'sample': 0.5423777451000177}. Best is trial 2 with value: -0.2883779056457746.\u001b[0m\n",
      "\u001b[32m[I 2022-06-27 09:19:29,002]\u001b[0m Trial 3 finished with value: -0.2863700906004611 and parameters: {'alpha': 0.24051369810045953, 'beta': 0.4137283827729319, 'depth': 5, 'childweight': 0, 'ourlearning_rate': 0.05500025847026949, 'colsample_bytree': 0.8867588250791824, 'sample': 0.7810029236494582}. Best is trial 3 with value: -0.2863700906004611.\u001b[0m\n",
      "\u001b[32m[I 2022-06-27 09:20:22,027]\u001b[0m Trial 4 finished with value: -0.2960689999473868 and parameters: {'alpha': 0.146552357348651, 'beta': 0.7861701184344617, 'depth': 3, 'childweight': 0, 'ourlearning_rate': 0.37579282204768544, 'colsample_bytree': 0.862707641223636, 'sample': 0.4254252790396786}. Best is trial 3 with value: -0.2863700906004611.\u001b[0m\n",
      "\u001b[32m[I 2022-06-27 09:21:07,006]\u001b[0m Trial 5 finished with value: -0.31117529141797184 and parameters: {'alpha': 0.2567193303797688, 'beta': 0.7514110206591008, 'depth': 3, 'childweight': 5, 'ourlearning_rate': 0.06497100093942658, 'colsample_bytree': 0.8993860350338762, 'sample': 0.7417114547301784}. Best is trial 3 with value: -0.2863700906004611.\u001b[0m\n",
      "\u001b[32m[I 2022-06-27 09:21:52,201]\u001b[0m Trial 6 finished with value: -0.3144678304676661 and parameters: {'alpha': 0.39687212509249314, 'beta': 0.8843876351036467, 'depth': 3, 'childweight': 3, 'ourlearning_rate': 0.17988235455564155, 'colsample_bytree': 0.4234461998500994, 'sample': 0.6611562646164092}. Best is trial 3 with value: -0.2863700906004611.\u001b[0m\n",
      "\u001b[32m[I 2022-06-27 09:22:29,915]\u001b[0m Trial 7 finished with value: -0.3138470971239714 and parameters: {'alpha': 0.21860308892614655, 'beta': 0.6622694295236927, 'depth': 3, 'childweight': 4, 'ourlearning_rate': 0.18343182509434766, 'colsample_bytree': 0.5252027001914943, 'sample': 0.7505142846860748}. Best is trial 3 with value: -0.2863700906004611.\u001b[0m\n",
      "\u001b[32m[I 2022-06-27 09:23:27,676]\u001b[0m Trial 8 finished with value: -0.2949767176729696 and parameters: {'alpha': 0.6951069116095658, 'beta': 0.6236106224971112, 'depth': 4, 'childweight': 3, 'ourlearning_rate': 0.148058215917811, 'colsample_bytree': 0.6175921812303893, 'sample': 0.49620153516240656}. Best is trial 3 with value: -0.2863700906004611.\u001b[0m\n",
      "\u001b[32m[I 2022-06-27 09:24:59,375]\u001b[0m Trial 9 finished with value: -0.293444848513844 and parameters: {'alpha': 0.5784216197740001, 'beta': 0.5824178569168734, 'depth': 5, 'childweight': 5, 'ourlearning_rate': 0.1502298888096777, 'colsample_bytree': 0.8549262361360129, 'sample': 0.4138363889167852}. Best is trial 3 with value: -0.2863700906004611.\u001b[0m\n",
      "\u001b[32m[I 2022-06-27 09:26:19,269]\u001b[0m Trial 10 finished with value: -0.28475295008832335 and parameters: {'alpha': 0.38696990096868555, 'beta': 0.23553201862485504, 'depth': 5, 'childweight': 1, 'ourlearning_rate': 0.054517518341147465, 'colsample_bytree': 0.753210469536754, 'sample': 0.8885193456213188}. Best is trial 10 with value: -0.28475295008832335.\u001b[0m\n",
      "\u001b[32m[I 2022-06-27 09:27:45,924]\u001b[0m Trial 11 finished with value: -0.28135067738523756 and parameters: {'alpha': 0.3912916034840029, 'beta': 0.22754513796458603, 'depth': 5, 'childweight': 1, 'ourlearning_rate': 0.05038926973307465, 'colsample_bytree': 0.7732851881398324, 'sample': 0.8891236384857136}. Best is trial 11 with value: -0.28135067738523756.\u001b[0m\n",
      "\u001b[32m[I 2022-06-27 09:29:08,804]\u001b[0m Trial 12 finished with value: -0.28887759442153244 and parameters: {'alpha': 0.4023677823776378, 'beta': 0.13407625200464562, 'depth': 5, 'childweight': 1, 'ourlearning_rate': 0.07390324236539175, 'colsample_bytree': 0.740112425720817, 'sample': 0.8972042105180046}. Best is trial 11 with value: -0.28135067738523756.\u001b[0m\n",
      "\u001b[32m[I 2022-06-27 09:30:27,201]\u001b[0m Trial 13 finished with value: -0.28868639348618536 and parameters: {'alpha': 0.3977482305819249, 'beta': 0.19962114468386, 'depth': 4, 'childweight': 1, 'ourlearning_rate': 0.050547594733099416, 'colsample_bytree': 0.7711553145340581, 'sample': 0.8866987765366648}. Best is trial 11 with value: -0.28135067738523756.\u001b[0m\n",
      "\u001b[32m[I 2022-06-27 09:31:54,743]\u001b[0m Trial 14 finished with value: -0.2896087197626727 and parameters: {'alpha': 0.46040921886907077, 'beta': 0.28107860643586485, 'depth': 5, 'childweight': 2, 'ourlearning_rate': 0.08372863424452648, 'colsample_bytree': 0.6743745648414783, 'sample': 0.831187332022804}. Best is trial 11 with value: -0.28135067738523756.\u001b[0m\n",
      "\u001b[32m[I 2022-06-27 09:33:05,947]\u001b[0m Trial 15 finished with value: -0.28776305117454104 and parameters: {'alpha': 0.5757044667614165, 'beta': 0.30313692676682524, 'depth': 5, 'childweight': 2, 'ourlearning_rate': 0.32826367776206045, 'colsample_bytree': 0.5663066456859432, 'sample': 0.6843164888616514}. Best is trial 11 with value: -0.28135067738523756.\u001b[0m\n",
      "\u001b[32m[I 2022-06-27 09:34:19,085]\u001b[0m Trial 16 finished with value: -0.2983474053257017 and parameters: {'alpha': 0.32978492119026176, 'beta': 0.38967541191573807, 'depth': 4, 'childweight': 1, 'ourlearning_rate': 0.09932446519467572, 'colsample_bytree': 0.8038240053653204, 'sample': 0.8481257513197272}. Best is trial 11 with value: -0.28135067738523756.\u001b[0m\n",
      "\u001b[32m[I 2022-06-27 09:35:50,079]\u001b[0m Trial 17 finished with value: -0.296871267719961 and parameters: {'alpha': 0.5077259541345767, 'beta': 0.15897137362353053, 'depth': 5, 'childweight': 0, 'ourlearning_rate': 0.5009969691345398, 'colsample_bytree': 0.7032872783786381, 'sample': 0.8254484188096891}. Best is trial 11 with value: -0.28135067738523756.\u001b[0m\n",
      "\u001b[32m[I 2022-06-27 09:37:08,026]\u001b[0m Trial 18 finished with value: -0.3001632139926939 and parameters: {'alpha': 0.1136616435608841, 'beta': 0.2807642590376412, 'depth': 4, 'childweight': 2, 'ourlearning_rate': 0.10595149678171709, 'colsample_bytree': 0.8177445778196736, 'sample': 0.7138046715266929}. Best is trial 11 with value: -0.28135067738523756.\u001b[0m\n",
      "\u001b[32m[I 2022-06-27 09:38:35,673]\u001b[0m Trial 19 finished with value: -0.2891811728832847 and parameters: {'alpha': 0.6710930486574951, 'beta': 0.49451021746572676, 'depth': 5, 'childweight': 1, 'ourlearning_rate': 0.06507810534976399, 'colsample_bytree': 0.5993621029323724, 'sample': 0.6124687707782303}. Best is trial 11 with value: -0.28135067738523756.\u001b[0m\n",
      "\u001b[32m[I 2022-06-27 09:39:47,467]\u001b[0m Trial 20 finished with value: -0.289360746170278 and parameters: {'alpha': 0.3120310096548785, 'beta': 0.10415167557428086, 'depth': 4, 'childweight': 0, 'ourlearning_rate': 0.26028881376344737, 'colsample_bytree': 0.7515818023232639, 'sample': 0.8672181448340832}. Best is trial 11 with value: -0.28135067738523756.\u001b[0m\n",
      "\u001b[32m[I 2022-06-27 09:41:38,959]\u001b[0m Trial 21 finished with value: -0.2869617401868427 and parameters: {'alpha': 0.25598312341421625, 'beta': 0.40264207297999277, 'depth': 5, 'childweight': 0, 'ourlearning_rate': 0.054815630567385414, 'colsample_bytree': 0.8958161254375252, 'sample': 0.7984722087739582}. Best is trial 11 with value: -0.28135067738523756.\u001b[0m\n",
      "\u001b[32m[I 2022-06-27 09:43:31,303]\u001b[0m Trial 22 finished with value: -0.2816866758477229 and parameters: {'alpha': 0.18705463251217408, 'beta': 0.3965155835886812, 'depth': 5, 'childweight': 0, 'ourlearning_rate': 0.050011097962538734, 'colsample_bytree': 0.8410836439722483, 'sample': 0.7850534038913107}. Best is trial 11 with value: -0.28135067738523756.\u001b[0m\n"
     ]
    },
    {
     "name": "stderr",
     "output_type": "stream",
     "text": [
      "\u001b[32m[I 2022-06-27 09:45:14,184]\u001b[0m Trial 23 finished with value: -0.29085705122047767 and parameters: {'alpha': 0.16336096600848132, 'beta': 0.21256127082351778, 'depth': 5, 'childweight': 1, 'ourlearning_rate': 0.07936808707882156, 'colsample_bytree': 0.8327527421977594, 'sample': 0.8531009430073804}. Best is trial 11 with value: -0.28135067738523756.\u001b[0m\n",
      "\u001b[32m[I 2022-06-27 09:46:47,711]\u001b[0m Trial 24 finished with value: -0.28748810171190503 and parameters: {'alpha': 0.3201635391792185, 'beta': 0.3309541287280361, 'depth': 5, 'childweight': 2, 'ourlearning_rate': 0.06435361832702631, 'colsample_bytree': 0.6973469392709181, 'sample': 0.8915303531182757}. Best is trial 11 with value: -0.28135067738523756.\u001b[0m\n"
     ]
    }
   ],
   "source": [
    "study_no_clusters_big_data = optuna.create_study(direction='maximize',study_name='No Clusters')\n",
    "study_no_clusters_big_data.optimize(objective_no_clusters_big_data,n_trials=25)"
   ]
  },
  {
   "cell_type": "code",
   "execution_count": 3,
   "id": "abc896b6",
   "metadata": {},
   "outputs": [],
   "source": [
    "def objective_no_clusters_big_data_no_scaling(trial):\n",
    "    \n",
    "    data = df[['Start_date','Longitude','Latitude','License Status','Industry']]\n",
    "    target = df[['date_diffs']]\n",
    "    \n",
    "    parameter = {\n",
    "      'max_depth':trial.suggest_int('depth', 3, 5), # show integer parameters between 3 and 5 for depth\n",
    "      'min_child_weight':trial.suggest_int('childweight',0,5), # show integer parameters between 0 and 5 for childweight\n",
    "      'learning_rate':trial.suggest_loguniform('ourlearning_rate',0.05,0.6), # set a log distribution between 0.05 and 0.5 for learning rate\n",
    "      'colsample_bytree':trial.suggest_uniform('colsample_bytree',0.4,0.9), # set a uniformly distributed numbers between 0.4 and 0.9 for colsample_bytree\n",
    "      'subsample':trial.suggest_uniform('sample',0.4,0.9)\n",
    "    }\n",
    "    \n",
    "    # preprocessor to avoid data leakage\n",
    "    preprocessor = ColumnTransformer(transformers = [('onehot', OneHotEncoder(sparse=False,handle_unknown = 'ignore'), ['Industry'])])\n",
    "    \n",
    "    # Add a callback for pruning.\n",
    "    pruning_callback = optuna.integration.XGBoostPruningCallback(trial, \"validation-erorr\")\n",
    "    \n",
    "    pipeline = Pipeline(steps=[('preprocessor', preprocessor),('model', xgb.XGBRegressor(**parameter))])\n",
    "\n",
    "    return np.mean(cross_val_score(pipeline, data, target, cv=5))\n"
   ]
  },
  {
   "cell_type": "code",
   "execution_count": 6,
   "id": "e26f23fc",
   "metadata": {},
   "outputs": [
    {
     "name": "stderr",
     "output_type": "stream",
     "text": [
      "\u001b[32m[I 2022-07-05 17:11:52,007]\u001b[0m A new study created in memory with name: No Clusters no scaling\u001b[0m\n",
      "\u001b[32m[I 2022-07-05 17:12:26,543]\u001b[0m Trial 0 finished with value: -0.062258849761357496 and parameters: {'depth': 5, 'childweight': 4, 'ourlearning_rate': 0.14082558383101496, 'colsample_bytree': 0.8144564132502653, 'sample': 0.6305033627843379}. Best is trial 0 with value: -0.062258849761357496.\u001b[0m\n",
      "\u001b[32m[I 2022-07-05 17:12:54,493]\u001b[0m Trial 1 finished with value: -0.05913645074222684 and parameters: {'depth': 4, 'childweight': 1, 'ourlearning_rate': 0.1072077489962983, 'colsample_bytree': 0.6558115011119723, 'sample': 0.7587863922918476}. Best is trial 1 with value: -0.05913645074222684.\u001b[0m\n",
      "\u001b[32m[I 2022-07-05 17:13:32,951]\u001b[0m Trial 2 finished with value: -0.06361902965660435 and parameters: {'depth': 4, 'childweight': 4, 'ourlearning_rate': 0.5430143065912019, 'colsample_bytree': 0.4605887707678615, 'sample': 0.7989097654455678}. Best is trial 1 with value: -0.05913645074222684.\u001b[0m\n",
      "\u001b[32m[I 2022-07-05 17:14:05,915]\u001b[0m Trial 3 finished with value: -0.060208534831933405 and parameters: {'depth': 4, 'childweight': 2, 'ourlearning_rate': 0.13120777386207683, 'colsample_bytree': 0.41012441988066756, 'sample': 0.6126439602439626}. Best is trial 1 with value: -0.05913645074222684.\u001b[0m\n",
      "\u001b[32m[I 2022-07-05 17:14:50,482]\u001b[0m Trial 4 finished with value: -0.05738040065812076 and parameters: {'depth': 4, 'childweight': 1, 'ourlearning_rate': 0.057231642143027714, 'colsample_bytree': 0.49901169726396305, 'sample': 0.8712121041455485}. Best is trial 4 with value: -0.05738040065812076.\u001b[0m\n",
      "\u001b[32m[I 2022-07-05 17:15:31,899]\u001b[0m Trial 5 finished with value: -0.06335632342441552 and parameters: {'depth': 5, 'childweight': 5, 'ourlearning_rate': 0.4880696416118768, 'colsample_bytree': 0.5944122716928099, 'sample': 0.4667474547697033}. Best is trial 4 with value: -0.05738040065812076.\u001b[0m\n",
      "\u001b[32m[I 2022-07-05 17:16:18,064]\u001b[0m Trial 6 finished with value: -0.06292301196321123 and parameters: {'depth': 4, 'childweight': 0, 'ourlearning_rate': 0.2585704016119053, 'colsample_bytree': 0.8376471460532562, 'sample': 0.7653071170875676}. Best is trial 4 with value: -0.05738040065812076.\u001b[0m\n",
      "\u001b[32m[I 2022-07-05 17:17:00,623]\u001b[0m Trial 7 finished with value: -0.05918455653557346 and parameters: {'depth': 4, 'childweight': 5, 'ourlearning_rate': 0.10844908585076177, 'colsample_bytree': 0.4060345573455519, 'sample': 0.785562983935758}. Best is trial 4 with value: -0.05738040065812076.\u001b[0m\n",
      "\u001b[32m[I 2022-07-05 17:17:51,903]\u001b[0m Trial 8 finished with value: -0.062042320724490986 and parameters: {'depth': 5, 'childweight': 5, 'ourlearning_rate': 0.15789989641347774, 'colsample_bytree': 0.6304909805963065, 'sample': 0.8213196104001719}. Best is trial 4 with value: -0.05738040065812076.\u001b[0m\n",
      "\u001b[32m[I 2022-07-05 17:18:49,147]\u001b[0m Trial 9 finished with value: -0.061273966091289545 and parameters: {'depth': 5, 'childweight': 0, 'ourlearning_rate': 0.13327409306332066, 'colsample_bytree': 0.8873339457699683, 'sample': 0.842666137551483}. Best is trial 4 with value: -0.05738040065812076.\u001b[0m\n",
      "\u001b[32m[I 2022-07-05 17:19:17,668]\u001b[0m Trial 10 finished with value: -0.058089696284288374 and parameters: {'depth': 3, 'childweight': 2, 'ourlearning_rate': 0.05064385207515566, 'colsample_bytree': 0.5223255722408682, 'sample': 0.8900612201739398}. Best is trial 4 with value: -0.05738040065812076.\u001b[0m\n",
      "\u001b[32m[I 2022-07-05 17:19:56,335]\u001b[0m Trial 11 finished with value: -0.05813967516197109 and parameters: {'depth': 3, 'childweight': 2, 'ourlearning_rate': 0.053466100378935115, 'colsample_bytree': 0.5297834474881715, 'sample': 0.8992327372264908}. Best is trial 4 with value: -0.05738040065812076.\u001b[0m\n",
      "\u001b[32m[I 2022-07-05 17:20:22,911]\u001b[0m Trial 12 finished with value: -0.058044931223796684 and parameters: {'depth': 3, 'childweight': 1, 'ourlearning_rate': 0.050246645867846496, 'colsample_bytree': 0.5291016368842598, 'sample': 0.8983920817964111}. Best is trial 4 with value: -0.05738040065812076.\u001b[0m\n",
      "\u001b[32m[I 2022-07-05 17:21:09,413]\u001b[0m Trial 13 finished with value: -0.05774487089985225 and parameters: {'depth': 3, 'childweight': 1, 'ourlearning_rate': 0.07652005081315598, 'colsample_bytree': 0.7193234535806218, 'sample': 0.6990867639853078}. Best is trial 4 with value: -0.05738040065812076.\u001b[0m\n",
      "\u001b[32m[I 2022-07-05 17:21:51,346]\u001b[0m Trial 14 finished with value: -0.057932238249579514 and parameters: {'depth': 3, 'childweight': 1, 'ourlearning_rate': 0.07963167813588888, 'colsample_bytree': 0.7111830786787855, 'sample': 0.700638169795003}. Best is trial 4 with value: -0.05738040065812076.\u001b[0m\n",
      "\u001b[32m[I 2022-07-05 17:22:28,092]\u001b[0m Trial 15 finished with value: -0.06252425057025054 and parameters: {'depth': 3, 'childweight': 3, 'ourlearning_rate': 0.23584439780083127, 'colsample_bytree': 0.7458110790950921, 'sample': 0.5421835168965962}. Best is trial 4 with value: -0.05738040065812076.\u001b[0m\n",
      "\u001b[32m[I 2022-07-05 17:23:15,740]\u001b[0m Trial 16 finished with value: -0.05811298688896145 and parameters: {'depth': 3, 'childweight': 0, 'ourlearning_rate': 0.07033864855829257, 'colsample_bytree': 0.7344664096852271, 'sample': 0.7037023326984104}. Best is trial 4 with value: -0.05738040065812076.\u001b[0m\n",
      "\u001b[32m[I 2022-07-05 17:24:05,852]\u001b[0m Trial 17 finished with value: -0.057843989037143384 and parameters: {'depth': 4, 'childweight': 1, 'ourlearning_rate': 0.07757208386956713, 'colsample_bytree': 0.6745056010972178, 'sample': 0.5600034105431765}. Best is trial 4 with value: -0.05738040065812076.\u001b[0m\n",
      "\u001b[32m[I 2022-07-05 17:24:37,343]\u001b[0m Trial 18 finished with value: -0.05815391835600052 and parameters: {'depth': 3, 'childweight': 3, 'ourlearning_rate': 0.07281803472235689, 'colsample_bytree': 0.5732501908489065, 'sample': 0.43282577218655727}. Best is trial 4 with value: -0.05738040065812076.\u001b[0m\n",
      "\u001b[32m[I 2022-07-05 17:25:31,482]\u001b[0m Trial 19 finished with value: -0.06267186159502447 and parameters: {'depth': 4, 'childweight': 1, 'ourlearning_rate': 0.21420747847879212, 'colsample_bytree': 0.786379727423531, 'sample': 0.6996341513579492}. Best is trial 4 with value: -0.05738040065812076.\u001b[0m\n",
      "\u001b[32m[I 2022-07-05 17:26:19,563]\u001b[0m Trial 20 finished with value: -0.06271991376086802 and parameters: {'depth': 4, 'childweight': 0, 'ourlearning_rate': 0.3475128703228639, 'colsample_bytree': 0.6011073312202937, 'sample': 0.5711647742188616}. Best is trial 4 with value: -0.05738040065812076.\u001b[0m\n",
      "\u001b[32m[I 2022-07-05 17:27:08,476]\u001b[0m Trial 21 finished with value: -0.05844884383629549 and parameters: {'depth': 4, 'childweight': 1, 'ourlearning_rate': 0.08980384961434142, 'colsample_bytree': 0.6790769264890113, 'sample': 0.5350026126757437}. Best is trial 4 with value: -0.05738040065812076.\u001b[0m\n",
      "\u001b[32m[I 2022-07-05 17:27:49,728]\u001b[0m Trial 22 finished with value: -0.05798202545921236 and parameters: {'depth': 4, 'childweight': 2, 'ourlearning_rate': 0.06875102325510349, 'colsample_bytree': 0.7054401820214287, 'sample': 0.49073287200889937}. Best is trial 4 with value: -0.05738040065812076.\u001b[0m\n",
      "\u001b[32m[I 2022-07-05 17:28:42,568]\u001b[0m Trial 23 finished with value: -0.057811233653615714 and parameters: {'depth': 5, 'childweight': 1, 'ourlearning_rate': 0.0610564353372519, 'colsample_bytree': 0.7787458168633251, 'sample': 0.664497298148384}. Best is trial 4 with value: -0.05738040065812076.\u001b[0m\n",
      "\u001b[32m[I 2022-07-05 17:29:41,979]\u001b[0m Trial 24 finished with value: -0.05764500306025466 and parameters: {'depth': 5, 'childweight': 2, 'ourlearning_rate': 0.060468414082641996, 'colsample_bytree': 0.7818638825695922, 'sample': 0.6588510706402312}. Best is trial 4 with value: -0.05738040065812076.\u001b[0m\n"
     ]
    }
   ],
   "source": [
    "study_no_clusters_big_data_no_scaling = optuna.create_study(direction='maximize',study_name='No Clusters no scaling')\n",
    "study_no_clusters_big_data_no_scaling.optimize(objective_no_clusters_big_data_no_scaling,n_trials=25)"
   ]
  },
  {
   "cell_type": "code",
   "execution_count": null,
   "id": "5b0fae9e",
   "metadata": {},
   "outputs": [],
   "source": [
    "# So we see that the scaling was somehow messing with our XGBoost model\n",
    "# There is still some improvement with the use of clustering, though not much"
   ]
  },
  {
   "cell_type": "code",
   "execution_count": null,
   "id": "327b97a2",
   "metadata": {},
   "outputs": [],
   "source": [
    "# Finally, lets train the final model."
   ]
  },
  {
   "cell_type": "code",
   "execution_count": 7,
   "id": "f6b80de8",
   "metadata": {},
   "outputs": [
    {
     "name": "stdout",
     "output_type": "stream",
     "text": [
      "[03:20:37] WARNING: C:/Users/Administrator/workspace/xgboost-win64_release_1.6.0/src/learner.cc:627: \n",
      "Parameters: { \"childweight\", \"depth\", \"ourlearning_rate\", \"sample\" } might not be used.\n",
      "\n",
      "  This could be a false alarm, with some parameters getting used by language bindings but\n",
      "  then being mistakenly passed down to XGBoost core, or some parameter actually being used\n",
      "  but getting flagged wrongly here. Please open an issue if you find any such cases.\n",
      "\n",
      "\n"
     ]
    },
    {
     "data": {
      "text/plain": [
       "Pipeline(steps=[('preprocessor',\n",
       "                 ColumnTransformer(transformers=[('scaler1',\n",
       "                                                  MinMaxScaler(feature_range=(0,\n",
       "                                                                              0.8624729890566708)),\n",
       "                                                  ['Longitude', 'Latitude']),\n",
       "                                                 ('scaler2',\n",
       "                                                  MinMaxScaler(feature_range=(0,\n",
       "                                                                              0.20189836604616812)),\n",
       "                                                  ['Start_date']),\n",
       "                                                 ('onehot',\n",
       "                                                  OneHotEncoder(handle_unknown='ignore',\n",
       "                                                                sparse=False),\n",
       "                                                  ['Industry'])])),\n",
       "                ('clusterer',\n",
       "                 <__main__.Cluster_Adder_Wit...\n",
       "                              gamma=0, gpu_id=-1, grow_policy='depthwise',\n",
       "                              importance_type=None, interaction_constraints='',\n",
       "                              learning_rate=0.300000012, max_bin=256,\n",
       "                              max_cat_to_onehot=4, max_delta_step=0,\n",
       "                              max_depth=6, max_leaves=0, min_child_weight=1,\n",
       "                              missing=nan, monotone_constraints='()',\n",
       "                              n_estimators=100, n_jobs=0, num_parallel_tree=1,\n",
       "                              ourlearning_rate=0.06515214309789943,\n",
       "                              predictor='auto', ...))])"
      ]
     },
     "execution_count": 7,
     "metadata": {},
     "output_type": "execute_result"
    }
   ],
   "source": [
    "final_data=df[['Start_date','Longitude','Latitude','License Status','Industry']]\n",
    "final_target = df[['date_diffs']]\n",
    "\n",
    "parameter = {\n",
    "    'depth': 4, \n",
    "    'childweight': 0, \n",
    "    'ourlearning_rate': 0.06515214309789943, \n",
    "    'colsample_bytree': 0.834490669484953, \n",
    "    'sample': 0.4579443309559088\n",
    "    }\n",
    "\n",
    "preprocessor = ColumnTransformer(transformers = [('scaler1', MinMaxScaler((0, 0.8624729890566708)),['Longitude', 'Latitude']),('scaler2', MinMaxScaler((0,0.20189836604616812)),['Start_date']), ('onehot', OneHotEncoder(sparse=False,handle_unknown = 'ignore'), ['Industry'])])\n",
    "\n",
    "pipeline = Pipeline(steps=[('preprocessor', preprocessor),('clusterer',Cluster_Adder_With_Deletion(10)),('model', xgb.XGBRegressor(**parameter))])\n",
    "\n",
    "pipeline.fit(final_data, final_target)"
   ]
  },
  {
   "cell_type": "code",
   "execution_count": 10,
   "id": "d4502950",
   "metadata": {},
   "outputs": [
    {
     "data": {
      "text/plain": [
       "0.07071675335497696"
      ]
     },
     "execution_count": 10,
     "metadata": {},
     "output_type": "execute_result"
    }
   ],
   "source": [
    "pipeline.score(final_data, final_target)"
   ]
  },
  {
   "cell_type": "code",
   "execution_count": 17,
   "id": "86c5c3a9",
   "metadata": {},
   "outputs": [
    {
     "name": "stdout",
     "output_type": "stream",
     "text": [
      "[03:28:29] WARNING: C:/Users/Administrator/workspace/xgboost-win64_release_1.6.0/src/learner.cc:627: \n",
      "Parameters: { \"childweight\", \"depth\", \"ourlearning_rate\", \"sample\" } might not be used.\n",
      "\n",
      "  This could be a false alarm, with some parameters getting used by language bindings but\n",
      "  then being mistakenly passed down to XGBoost core, or some parameter actually being used\n",
      "  but getting flagged wrongly here. Please open an issue if you find any such cases.\n",
      "\n",
      "\n"
     ]
    },
    {
     "data": {
      "text/plain": [
       "Pipeline(steps=[('preprocessor',\n",
       "                 ColumnTransformer(transformers=[('onehot',\n",
       "                                                  OneHotEncoder(handle_unknown='ignore',\n",
       "                                                                sparse=False),\n",
       "                                                  ['Industry'])])),\n",
       "                ('model',\n",
       "                 XGBRegressor(base_score=0.5, booster='gbtree', callbacks=None,\n",
       "                              childweight=1, colsample_bylevel=1,\n",
       "                              colsample_bynode=1,\n",
       "                              colsample_bytree=0.49901169726396305, depth=4,\n",
       "                              early_stopping_rounds=None,\n",
       "                              enable_catego...\n",
       "                              gamma=0, gpu_id=-1, grow_policy='depthwise',\n",
       "                              importance_type=None, interaction_constraints='',\n",
       "                              learning_rate=0.300000012, max_bin=256,\n",
       "                              max_cat_to_onehot=4, max_delta_step=0,\n",
       "                              max_depth=6, max_leaves=0, min_child_weight=1,\n",
       "                              missing=nan, monotone_constraints='()',\n",
       "                              n_estimators=100, n_jobs=0, num_parallel_tree=1,\n",
       "                              ourlearning_rate=0.057231642143027714,\n",
       "                              predictor='auto', ...))])"
      ]
     },
     "execution_count": 17,
     "metadata": {},
     "output_type": "execute_result"
    }
   ],
   "source": [
    "final_data=df[['Start_date','Longitude','Latitude','License Status','Industry']]\n",
    "final_target = df[['date_diffs']]\n",
    "\n",
    "parameter = {\n",
    "    'depth': 4, \n",
    "    'childweight': 1, \n",
    "    'ourlearning_rate': 0.057231642143027714, \n",
    "    'colsample_bytree': 0.49901169726396305, \n",
    "    'sample': 0.8712121041455485\n",
    "    }\n",
    "\n",
    "preprocessor = ColumnTransformer(transformers = [('onehot', OneHotEncoder(sparse=False,handle_unknown = 'ignore'), ['Industry'])])\n",
    "\n",
    "pipeline_no_clusters = Pipeline(steps=[('preprocessor', preprocessor),('model', xgb.XGBRegressor(**parameter))])\n",
    "\n",
    "pipeline_no_clusters.fit(final_data, final_target)"
   ]
  },
  {
   "cell_type": "code",
   "execution_count": 18,
   "id": "659d3355",
   "metadata": {},
   "outputs": [
    {
     "data": {
      "text/plain": [
       "0.05402779077730091"
      ]
     },
     "execution_count": 18,
     "metadata": {},
     "output_type": "execute_result"
    }
   ],
   "source": [
    "pipeline_no_clusters.score(final_data, final_target)"
   ]
  },
  {
   "cell_type": "code",
   "execution_count": null,
   "id": "b189a5f2",
   "metadata": {},
   "outputs": [],
   "source": []
  },
  {
   "cell_type": "code",
   "execution_count": null,
   "id": "ca3d4699",
   "metadata": {},
   "outputs": [],
   "source": []
  }
 ],
 "metadata": {
  "kernelspec": {
   "display_name": "Python 3 (ipykernel)",
   "language": "python",
   "name": "python3"
  },
  "language_info": {
   "codemirror_mode": {
    "name": "ipython",
    "version": 3
   },
   "file_extension": ".py",
   "mimetype": "text/x-python",
   "name": "python",
   "nbconvert_exporter": "python",
   "pygments_lexer": "ipython3",
   "version": "3.9.7"
  }
 },
 "nbformat": 4,
 "nbformat_minor": 5
}
